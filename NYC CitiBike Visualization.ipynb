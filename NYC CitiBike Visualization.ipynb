{
 "cells": [
  {
   "cell_type": "markdown",
   "metadata": {},
   "source": [
    "<h1><center>NYC CitiBikes</center></h1>"
   ]
  },
  {
   "cell_type": "markdown",
   "metadata": {},
   "source": [
    "### Data Set Overview:\n",
    "\n",
    "This Notebook analyzes the New York City Metropolitan bike share porgram CitiBike. CitiBike is a privately owned public bicycle sharing system that serves the New York City boroughs and parts of Northern New Jersey. The system officially launched in May of 2013 with 332 stations and now has over 750 stations. For more on the origins of CitiBike, visit the CititBike [wikipedia page](https://en.wikipedia.org/wiki/Citi_Bike).\n",
    "\n",
    "The CitiBike dataset loaded into this Jupyter Notebook contains a subset of the overall CitiBike data. Within this dataset are descriptive variables such as tripduration, starttime, stoptime, and station id to name a few. This analysis will provide an overall understanding of this dataset through Exploratory Data Analysis in the first portion of this Notebook, and then move on to analytic questions.\n",
    "\n",
    "The order of this Notebook will be the following:\n",
    "\n",
    "Section 1: Staging Environment\n",
    "\n",
    "Section 2: Exploratory Data Analysis\n",
    "\n",
    "Section 3: Analytic Questions\n",
    "\n",
    "  1) [Exploratory Data Analysis](#section1)<a href = '#section1'></a>\n",
    "    \n",
    "  2) [Station Geography](#section2)<a href = '#section2'></a>\n",
    "\n",
    "  3) [Station Temporal Descriptive Statistics](#section3)<a href = '#section3'></a>\n",
    "       "
   ]
  },
  {
   "cell_type": "markdown",
   "metadata": {},
   "source": [
    "__________________________________________________________________________________________________________________"
   ]
  },
  {
   "cell_type": "markdown",
   "metadata": {},
   "source": [
    "##### Staging Environment"
   ]
  },
  {
   "cell_type": "code",
   "execution_count": 1,
   "metadata": {},
   "outputs": [],
   "source": [
    "#import necessary packages...\n",
    "import pandas as pd\n",
    "import numpy as np\n",
    "import matplotlib.pyplot as plt\n",
    "import datetime\n",
    "import seaborn as sns\n",
    "from IPython.display import HTML\n",
    "from IPython.core.display import display, HTML"
   ]
  },
  {
   "cell_type": "code",
   "execution_count": 2,
   "metadata": {},
   "outputs": [
    {
     "data": {
      "text/html": [
       "<script>\n",
       "code_show=true;\n",
       "function code_toggle() {\n",
       " if (code_show){\n",
       " $('div.input').hide();\n",
       " } else {\n",
       " $('div.input').show();\n",
       " }\n",
       " code_show = !code_show\n",
       "}\n",
       "$( document ).ready(code_toggle);\n",
       "</script>\n",
       "<form action=\"javascript:code_toggle()\"><input type=\"submit\" value=\"Click here to toggle on/off the raw code.\"></form>"
      ],
      "text/plain": [
       "<IPython.core.display.HTML object>"
      ]
     },
     "execution_count": 2,
     "metadata": {},
     "output_type": "execute_result"
    }
   ],
   "source": [
    "HTML('''<script>\n",
    "code_show=true;\n",
    "function code_toggle() {\n",
    " if (code_show){\n",
    " $('div.input').hide();\n",
    " } else {\n",
    " $('div.input').show();\n",
    " }\n",
    " code_show = !code_show\n",
    "}\n",
    "$( document ).ready(code_toggle);\n",
    "</script>\n",
    "<form action=\"javascript:code_toggle()\"><input type=\"submit\" value=\"Click here to toggle on/off the raw code.\"></form>''')"
   ]
  },
  {
   "cell_type": "code",
   "execution_count": 3,
   "metadata": {},
   "outputs": [],
   "source": [
    "#import data...\n",
    "CitiBike = pd.read_csv('JC-201909-citibike-tripdata.csv.zip')"
   ]
  },
  {
   "cell_type": "markdown",
   "metadata": {},
   "source": [
    "__________________________________________________________________________________________________________________"
   ]
  },
  {
   "cell_type": "markdown",
   "metadata": {},
   "source": [
    "<a id='section1'></a>\n",
    "##### Exploratory Data Analysis"
   ]
  },
  {
   "cell_type": "code",
   "execution_count": 4,
   "metadata": {},
   "outputs": [
    {
     "data": {
      "text/html": [
       "<div>\n",
       "<style scoped>\n",
       "    .dataframe tbody tr th:only-of-type {\n",
       "        vertical-align: middle;\n",
       "    }\n",
       "\n",
       "    .dataframe tbody tr th {\n",
       "        vertical-align: top;\n",
       "    }\n",
       "\n",
       "    .dataframe thead th {\n",
       "        text-align: right;\n",
       "    }\n",
       "</style>\n",
       "<table border=\"1\" class=\"dataframe\">\n",
       "  <thead>\n",
       "    <tr style=\"text-align: right;\">\n",
       "      <th></th>\n",
       "      <th>tripduration</th>\n",
       "      <th>starttime</th>\n",
       "      <th>stoptime</th>\n",
       "      <th>start station id</th>\n",
       "      <th>start station name</th>\n",
       "      <th>start station latitude</th>\n",
       "      <th>start station longitude</th>\n",
       "      <th>end station id</th>\n",
       "      <th>end station name</th>\n",
       "      <th>end station latitude</th>\n",
       "      <th>end station longitude</th>\n",
       "      <th>bikeid</th>\n",
       "      <th>usertype</th>\n",
       "      <th>birth year</th>\n",
       "      <th>gender</th>\n",
       "    </tr>\n",
       "  </thead>\n",
       "  <tbody>\n",
       "    <tr>\n",
       "      <td>0</td>\n",
       "      <td>145</td>\n",
       "      <td>2019-09-01 00:00:37.6920</td>\n",
       "      <td>2019-09-01 00:03:03.0100</td>\n",
       "      <td>3640</td>\n",
       "      <td>Journal Square</td>\n",
       "      <td>40.733670</td>\n",
       "      <td>-74.062500</td>\n",
       "      <td>3206</td>\n",
       "      <td>Hilltop</td>\n",
       "      <td>40.731169</td>\n",
       "      <td>-74.057574</td>\n",
       "      <td>29303</td>\n",
       "      <td>Subscriber</td>\n",
       "      <td>1991</td>\n",
       "      <td>1</td>\n",
       "    </tr>\n",
       "    <tr>\n",
       "      <td>1</td>\n",
       "      <td>212</td>\n",
       "      <td>2019-09-01 00:03:00.6000</td>\n",
       "      <td>2019-09-01 00:06:33.3420</td>\n",
       "      <td>3194</td>\n",
       "      <td>McGinley Square</td>\n",
       "      <td>40.725340</td>\n",
       "      <td>-74.067622</td>\n",
       "      <td>3679</td>\n",
       "      <td>Bergen Ave</td>\n",
       "      <td>40.722104</td>\n",
       "      <td>-74.071455</td>\n",
       "      <td>29297</td>\n",
       "      <td>Subscriber</td>\n",
       "      <td>1993</td>\n",
       "      <td>2</td>\n",
       "    </tr>\n",
       "    <tr>\n",
       "      <td>2</td>\n",
       "      <td>569</td>\n",
       "      <td>2019-09-01 00:07:13.0020</td>\n",
       "      <td>2019-09-01 00:16:42.8610</td>\n",
       "      <td>3214</td>\n",
       "      <td>Essex Light Rail</td>\n",
       "      <td>40.712774</td>\n",
       "      <td>-74.036486</td>\n",
       "      <td>3184</td>\n",
       "      <td>Paulus Hook</td>\n",
       "      <td>40.714145</td>\n",
       "      <td>-74.033552</td>\n",
       "      <td>29435</td>\n",
       "      <td>Customer</td>\n",
       "      <td>1977</td>\n",
       "      <td>1</td>\n",
       "    </tr>\n",
       "    <tr>\n",
       "      <td>3</td>\n",
       "      <td>1380</td>\n",
       "      <td>2019-09-01 00:07:25.3350</td>\n",
       "      <td>2019-09-01 00:30:26.1640</td>\n",
       "      <td>3214</td>\n",
       "      <td>Essex Light Rail</td>\n",
       "      <td>40.712774</td>\n",
       "      <td>-74.036486</td>\n",
       "      <td>3792</td>\n",
       "      <td>Columbus Dr at Exchange Pl</td>\n",
       "      <td>40.716870</td>\n",
       "      <td>-74.032810</td>\n",
       "      <td>29509</td>\n",
       "      <td>Subscriber</td>\n",
       "      <td>1965</td>\n",
       "      <td>1</td>\n",
       "    </tr>\n",
       "    <tr>\n",
       "      <td>4</td>\n",
       "      <td>1346</td>\n",
       "      <td>2019-09-01 00:07:56.4670</td>\n",
       "      <td>2019-09-01 00:30:22.5440</td>\n",
       "      <td>3214</td>\n",
       "      <td>Essex Light Rail</td>\n",
       "      <td>40.712774</td>\n",
       "      <td>-74.036486</td>\n",
       "      <td>3792</td>\n",
       "      <td>Columbus Dr at Exchange Pl</td>\n",
       "      <td>40.716870</td>\n",
       "      <td>-74.032810</td>\n",
       "      <td>29226</td>\n",
       "      <td>Subscriber</td>\n",
       "      <td>1968</td>\n",
       "      <td>2</td>\n",
       "    </tr>\n",
       "  </tbody>\n",
       "</table>\n",
       "</div>"
      ],
      "text/plain": [
       "   tripduration                 starttime                  stoptime  \\\n",
       "0           145  2019-09-01 00:00:37.6920  2019-09-01 00:03:03.0100   \n",
       "1           212  2019-09-01 00:03:00.6000  2019-09-01 00:06:33.3420   \n",
       "2           569  2019-09-01 00:07:13.0020  2019-09-01 00:16:42.8610   \n",
       "3          1380  2019-09-01 00:07:25.3350  2019-09-01 00:30:26.1640   \n",
       "4          1346  2019-09-01 00:07:56.4670  2019-09-01 00:30:22.5440   \n",
       "\n",
       "   start station id start station name  start station latitude  \\\n",
       "0              3640     Journal Square               40.733670   \n",
       "1              3194    McGinley Square               40.725340   \n",
       "2              3214   Essex Light Rail               40.712774   \n",
       "3              3214   Essex Light Rail               40.712774   \n",
       "4              3214   Essex Light Rail               40.712774   \n",
       "\n",
       "   start station longitude  end station id            end station name  \\\n",
       "0               -74.062500            3206                     Hilltop   \n",
       "1               -74.067622            3679                  Bergen Ave   \n",
       "2               -74.036486            3184                 Paulus Hook   \n",
       "3               -74.036486            3792  Columbus Dr at Exchange Pl   \n",
       "4               -74.036486            3792  Columbus Dr at Exchange Pl   \n",
       "\n",
       "   end station latitude  end station longitude  bikeid    usertype  \\\n",
       "0             40.731169             -74.057574   29303  Subscriber   \n",
       "1             40.722104             -74.071455   29297  Subscriber   \n",
       "2             40.714145             -74.033552   29435    Customer   \n",
       "3             40.716870             -74.032810   29509  Subscriber   \n",
       "4             40.716870             -74.032810   29226  Subscriber   \n",
       "\n",
       "   birth year  gender  \n",
       "0        1991       1  \n",
       "1        1993       2  \n",
       "2        1977       1  \n",
       "3        1965       1  \n",
       "4        1968       2  "
      ]
     },
     "execution_count": 4,
     "metadata": {},
     "output_type": "execute_result"
    }
   ],
   "source": [
    "CitiBike.head()"
   ]
  },
  {
   "cell_type": "code",
   "execution_count": 5,
   "metadata": {},
   "outputs": [
    {
     "name": "stdout",
     "output_type": "stream",
     "text": [
      "<class 'pandas.core.frame.DataFrame'>\n",
      "RangeIndex: 49244 entries, 0 to 49243\n",
      "Data columns (total 15 columns):\n",
      "tripduration               49244 non-null int64\n",
      "starttime                  49244 non-null object\n",
      "stoptime                   49244 non-null object\n",
      "start station id           49244 non-null int64\n",
      "start station name         49244 non-null object\n",
      "start station latitude     49244 non-null float64\n",
      "start station longitude    49244 non-null float64\n",
      "end station id             49244 non-null int64\n",
      "end station name           49244 non-null object\n",
      "end station latitude       49244 non-null float64\n",
      "end station longitude      49244 non-null float64\n",
      "bikeid                     49244 non-null int64\n",
      "usertype                   49244 non-null object\n",
      "birth year                 49244 non-null int64\n",
      "gender                     49244 non-null int64\n",
      "dtypes: float64(4), int64(6), object(5)\n",
      "memory usage: 5.6+ MB\n"
     ]
    }
   ],
   "source": [
    "CitiBike.info()"
   ]
  },
  {
   "cell_type": "code",
   "execution_count": 6,
   "metadata": {},
   "outputs": [
    {
     "data": {
      "image/png": "[encoded data removed]",
      "text/plain": [
       "<Figure size 432x288 with 1 Axes>"
      ]
     },
     "metadata": {
      "needs_background": "light"
     },
     "output_type": "display_data"
    }
   ],
   "source": [
    "fig, ax = plt.subplots()\n",
    "ax.plot(CitiBike['start station latitude'], CitiBike['start station longitude'], 'o')\n",
    "ax.set_xlabel('Latitude')\n",
    "ax.set_ylabel('Longitude')\n",
    "ax.set_title('Basic Geographic plot')\n",
    "plt.show()"
   ]
  },
  {
   "cell_type": "markdown",
   "metadata": {},
   "source": [
    "This visualization utilizes the 'end station latitude' and 'end station longitude' to plot the NYC CitiBike doc locations. I particularly like that this map allows you to visualize parts of Manhattan, New Jersey, and Brooklyn. This visualization is also useful for giving you an idea as to the denser locations for the CitiBike docs.\n",
    "\n",
    "EDA Overview:\n",
    "\n",
    "A few interesting things to note with this dataset:\n",
    "* There is a few distinctions given as to the user demographics:\n",
    "    * We can see if a user is a subscriber or a customer\n",
    "    * We can see what year a user is born\n",
    "    * We can note the difference in gender\n",
    "* There is useful information given concerning geography:\n",
    "    * We can observe slightly the distinction of lower Manhattan, and then North Jersey and the Brookly and Queens boroughs\n",
    "    * The station start/stop has a geograhpic coordinate associated with it\n",
    "* There is a lot of information pertaining to particular stations:\n",
    "    * We can see how many rides start/stop at a given station\n",
    "    * We can see what time rides start/stop at a given station\n",
    "    * We can see how long a trip typically lasts when starting from a given station\n",
    "    \n",
    "These are a few interesting questions that immediately come to mind when initially exploring this dataset. These will be the questions that I will explore in the following analytic sections.\n"
   ]
  },
  {
   "cell_type": "markdown",
   "metadata": {},
   "source": [
    "__________________________________________________________________________________________________________________"
   ]
  },
  {
   "cell_type": "markdown",
   "metadata": {},
   "source": [
    "##### User Demographics"
   ]
  },
  {
   "cell_type": "markdown",
   "metadata": {},
   "source": [
    "There are 49,244 observations in this dataset. Unfortunately, the only \"id\" typed to each observation is a \"bike id\" and not a \"user id\". However, we can still explore some interesting demographic questions. This section will explore a few of those questions."
   ]
  },
  {
   "cell_type": "markdown",
   "metadata": {},
   "source": [
    "Question 1: What is the average age of a user?"
   ]
  },
  {
   "cell_type": "code",
   "execution_count": 7,
   "metadata": {},
   "outputs": [
    {
     "name": "stdout",
     "output_type": "stream",
     "text": [
      "The average birth year is 1981.5974331898303\n"
     ]
    }
   ],
   "source": [
    "print(\"The average birth year is\", np.mean(CitiBike['birth year']))"
   ]
  },
  {
   "cell_type": "markdown",
   "metadata": {},
   "source": [
    "The average birth year is 1981, putting that average user at age 38."
   ]
  },
  {
   "cell_type": "markdown",
   "metadata": {},
   "source": [
    "Question 2: What are the user age extremes?"
   ]
  },
  {
   "cell_type": "code",
   "execution_count": 8,
   "metadata": {},
   "outputs": [
    {
     "name": "stdout",
     "output_type": "stream",
     "text": [
      "The oldest user was born in 1888\n"
     ]
    }
   ],
   "source": [
    "print(\"The oldest user was born in\", np.min(CitiBike['birth year']))"
   ]
  },
  {
   "cell_type": "code",
   "execution_count": 9,
   "metadata": {},
   "outputs": [
    {
     "name": "stdout",
     "output_type": "stream",
     "text": [
      "The youngest user was born in 2003\n"
     ]
    }
   ],
   "source": [
    "print(\"The youngest user was born in\", np.max(CitiBike['birth year']))"
   ]
  },
  {
   "cell_type": "markdown",
   "metadata": {},
   "source": [
    "According to this data there is a user out there who is 123.... which seems highly suspect that such a user would be biking around New York City. The minimum age of 16 is much more believable, although I think I have seen users younger than 16 on CitiBike."
   ]
  },
  {
   "cell_type": "markdown",
   "metadata": {},
   "source": [
    "Question 3: Are there more subscribers or customers?"
   ]
  },
  {
   "cell_type": "code",
   "execution_count": 10,
   "metadata": {},
   "outputs": [
    {
     "data": {
      "text/plain": [
       "Subscriber    41856\n",
       "Customer       7388\n",
       "Name: usertype, dtype: int64"
      ]
     },
     "execution_count": 10,
     "metadata": {},
     "output_type": "execute_result"
    }
   ],
   "source": [
    "CitiBike['usertype'].value_counts()"
   ]
  },
  {
   "cell_type": "markdown",
   "metadata": {},
   "source": [
    "Looks like there are more users who are subscribers than customers. From the CitiBike website we are told a Customer is a 24 hour pass or 3 day pass user and subscriber is a user that purchases a yearly pass. The subscriber option is much more cost effective, so this distinction in user activities does not surprise me."
   ]
  },
  {
   "cell_type": "markdown",
   "metadata": {},
   "source": [
    "Question 4: Which gender is more prevalent?"
   ]
  },
  {
   "cell_type": "code",
   "execution_count": 11,
   "metadata": {},
   "outputs": [
    {
     "data": {
      "text/plain": [
       "1    33417\n",
       "2    12049\n",
       "0     3778\n",
       "Name: gender, dtype: int64"
      ]
     },
     "execution_count": 11,
     "metadata": {},
     "output_type": "execute_result"
    }
   ],
   "source": [
    "CitiBike['gender'].value_counts()"
   ]
  },
  {
   "cell_type": "markdown",
   "metadata": {},
   "source": [
    "From the CitiBike website we are told that Gender=1 is male and Gender=2 is female. Looks as if there are substantially more males than females that are taking CitiBike."
   ]
  },
  {
   "cell_type": "markdown",
   "metadata": {},
   "source": [
    "_________________________________________________________________________________________________________________"
   ]
  },
  {
   "cell_type": "markdown",
   "metadata": {},
   "source": [
    "<a id='section2'></a>\n",
    "##### Station Geography"
   ]
  },
  {
   "cell_type": "markdown",
   "metadata": {},
   "source": [
    "From the initial plotting of the start station latitude and start station longitude it appears as though these locations are in Manhattan and New Jersey. Lets double check that by plotting the stations onto an interactive map. We can also see which stations are more busy by setting the colors of the stations to reflect overall use."
   ]
  },
  {
   "cell_type": "code",
   "execution_count": 12,
   "metadata": {},
   "outputs": [],
   "source": [
    "#import geo package...\n",
    "import folium"
   ]
  },
  {
   "cell_type": "code",
   "execution_count": 13,
   "metadata": {},
   "outputs": [],
   "source": [
    "#create a map based utilizing the CitiBike data and set indicators on map to reflect usage...\n",
    "location=CitiBike.groupby(['start station latitude','start station longitude','start station name']).size().reset_index(name='count').sort_values(by='count',ascending=False)\n",
    "location=location[location['count']>5]\n",
    "location['color']=location['count'].apply(lambda count:\"Black\" if count>=4000 else\n",
    "                                         \"green\" if count>=2000 and count<4000 else\n",
    "                                         \"Orange\" if count>=1000 and count<2000 else\n",
    "                                         \"darkblue\" if count>=500 and count<1000 else\n",
    "                                         \"red\" if count>=300 and count<500 else\n",
    "                                         \"lightblue\" if count>=250 and count<300 else\n",
    "                                         \"brown\" if count>=1 and count<250 else\n",
    "                                         \"grey\")\n",
    "location['size']=location['count'].apply(lambda count:20 if count>=4000 else\n",
    "                                         15 if count>=2000 and count<4000 else\n",
    "                                         8 if count>=500 and count<1000 else\n",
    "                                         5 if count>=300 and count<500 else\n",
    "                                         3 if count>=250 and count<300 else\n",
    "                                         2 if count>=1 and count<250 else\n",
    "                                         0.1)"
   ]
  },
  {
   "cell_type": "code",
   "execution_count": 14,
   "metadata": {},
   "outputs": [],
   "source": [
    "#instantiate map...\n",
    "m = folium.Map(location=[40.75, -74], zoom_start=10)\n",
    "for lat,lon,area,color,count,size in zip(location['start station latitude'],location['start station longitude'],location['start station name'],location['color'],location['count'],location['size']):\n",
    "     folium.CircleMarker([lat, lon],\n",
    "                            popup=area,\n",
    "                            radius=size,\n",
    "                            color='b',\n",
    "                            fill=True,\n",
    "                            fill_opacity=0.7,\n",
    "                            fill_color=color,\n",
    "                           ).add_to(m)\n",
    "m.save('NYC_CitiBike_map.html')"
   ]
  },
  {
   "cell_type": "markdown",
   "metadata": {},
   "source": [
    "Opening the html map, we see that this is actually data reflecting stations in New Jersey. We can also see through making the station markers reflect the overall count of observations which stations are the busiest, with the Grove St PATH clearly showing to be the busiest station."
   ]
  },
  {
   "cell_type": "markdown",
   "metadata": {},
   "source": [
    "_________________________________________________________________________________________________________________"
   ]
  },
  {
   "cell_type": "markdown",
   "metadata": {},
   "source": [
    "<a id='section3'></a>\n",
    "##### Station Temporal Descriptive Statistics"
   ]
  },
  {
   "cell_type": "markdown",
   "metadata": {},
   "source": [
    "\n",
    "\n",
    "\n",
    "\n",
    "\n",
    "\n",
    "\n",
    "\n",
    "\n"
   ]
  },
  {
   "cell_type": "markdown",
   "metadata": {},
   "source": [
    "Now that we know which stations are busiest and where those stations are on a map, a curious question we can also answer is what times are the busiest for those busy stations. Specifically, we should investigate what time those busy stations are having their bikes checked out most. This will be useful information for us as it will help us know when a station is either getting too full or having too many bikes checked out. This will be useful from a station management persepctive as many times there are either no bikes left at a station or there are too many bikes checked in and no spots left to dock your bike.\n",
    "\n",
    "Lets focus on the busiest station in the dataset, the Grove St PATH station."
   ]
  },
  {
   "cell_type": "code",
   "execution_count": 15,
   "metadata": {},
   "outputs": [
    {
     "data": {
      "text/plain": [
       "<matplotlib.axes._subplots.AxesSubplot at 0x1a1b1b4c10>"
      ]
     },
     "execution_count": 15,
     "metadata": {},
     "output_type": "execute_result"
    },
    {
     "data": {
      "image/png": "[encoded data removed]",
      "text/plain": [
       "<Figure size 432x288 with 1 Axes>"
      ]
     },
     "metadata": {
      "needs_background": "light"
     },
     "output_type": "display_data"
    }
   ],
   "source": [
    "#lets look at all of the station activity to check and ensure we know which one us busiest...\n",
    "CitiBike['start station name'].value_counts()[:20].plot(kind='barh')"
   ]
  },
  {
   "cell_type": "markdown",
   "metadata": {},
   "source": [
    "As We can see, Grove St PATH is clearly the busiest station. Lets focus on that one."
   ]
  },
  {
   "cell_type": "code",
   "execution_count": 36,
   "metadata": {},
   "outputs": [],
   "source": [
    "justhour_df_valuecounts_df.to_excel(\"output.xlsx\")"
   ]
  },
  {
   "cell_type": "code",
   "execution_count": 38,
   "metadata": {},
   "outputs": [],
   "source": [
    "# Step 1: Filter Data frame to the station of interest\n",
    "new_df = CitiBike[CitiBike['start station name'] =='Grove St PATH']"
   ]
  },
  {
   "cell_type": "code",
   "execution_count": 39,
   "metadata": {},
   "outputs": [
    {
     "data": {
      "text/plain": [
       "tripduration                 int64\n",
       "starttime                   object\n",
       "stoptime                    object\n",
       "start station id             int64\n",
       "start station name          object\n",
       "start station latitude     float64\n",
       "start station longitude    float64\n",
       "end station id               int64\n",
       "end station name            object\n",
       "end station latitude       float64\n",
       "end station longitude      float64\n",
       "bikeid                       int64\n",
       "usertype                    object\n",
       "birth year                   int64\n",
       "gender                       int64\n",
       "dtype: object"
      ]
     },
     "execution_count": 39,
     "metadata": {},
     "output_type": "execute_result"
    }
   ],
   "source": [
    "# Step 2 - Find the dataype of the startime - convert to datetime\n",
    "# Step 2a - Whate are the data types?\n",
    "new_df.dtypes\n",
    "\n",
    "#new_df.set_index('starttime',inplace=True)"
   ]
  },
  {
   "cell_type": "code",
   "execution_count": 40,
   "metadata": {},
   "outputs": [
    {
     "name": "stderr",
     "output_type": "stream",
     "text": [
      "/opt/anaconda3/lib/python3.7/site-packages/ipykernel_launcher.py:3: SettingWithCopyWarning: \n",
      "A value is trying to be set on a copy of a slice from a DataFrame.\n",
      "Try using .loc[row_indexer,col_indexer] = value instead\n",
      "\n",
      "See the caveats in the documentation: http://pandas.pydata.org/pandas-docs/stable/user_guide/indexing.html#returning-a-view-versus-a-copy\n",
      "  This is separate from the ipykernel package so we can avoid doing imports until\n",
      "/opt/anaconda3/lib/python3.7/site-packages/ipykernel_launcher.py:6: SettingWithCopyWarning: \n",
      "A value is trying to be set on a copy of a slice from a DataFrame.\n",
      "Try using .loc[row_indexer,col_indexer] = value instead\n",
      "\n",
      "See the caveats in the documentation: http://pandas.pydata.org/pandas-docs/stable/user_guide/indexing.html#returning-a-view-versus-a-copy\n",
      "  \n",
      "/opt/anaconda3/lib/python3.7/site-packages/pandas/core/indexing.py:376: SettingWithCopyWarning: \n",
      "A value is trying to be set on a copy of a slice from a DataFrame.\n",
      "Try using .loc[row_indexer,col_indexer] = value instead\n",
      "\n",
      "See the caveats in the documentation: http://pandas.pydata.org/pandas-docs/stable/user_guide/indexing.html#returning-a-view-versus-a-copy\n",
      "  self.obj[key] = _infer_fill_value(value)\n",
      "/opt/anaconda3/lib/python3.7/site-packages/pandas/core/indexing.py:494: SettingWithCopyWarning: \n",
      "A value is trying to be set on a copy of a slice from a DataFrame.\n",
      "Try using .loc[row_indexer,col_indexer] = value instead\n",
      "\n",
      "See the caveats in the documentation: http://pandas.pydata.org/pandas-docs/stable/user_guide/indexing.html#returning-a-view-versus-a-copy\n",
      "  self.obj[item] = s\n",
      "/opt/anaconda3/lib/python3.7/site-packages/ipykernel_launcher.py:10: SettingWithCopyWarning: \n",
      "A value is trying to be set on a copy of a slice from a DataFrame.\n",
      "Try using .loc[row_indexer,col_indexer] = value instead\n",
      "\n",
      "See the caveats in the documentation: http://pandas.pydata.org/pandas-docs/stable/user_guide/indexing.html#returning-a-view-versus-a-copy\n",
      "  # Remove the CWD from sys.path while we load stuff.\n"
     ]
    }
   ],
   "source": [
    "# Option 3: using loc indexing\n",
    "\n",
    "new_df['timestamp'] = pd.to_datetime(new_df['starttime'])\n",
    "\n",
    "# extract hour from the timestamp column to create an time_hour column\n",
    "new_df['time_hour'] = new_df['timestamp'].dt.hour\n",
    "\n",
    "new_df.loc[:,'test_time']  = new_df['timestamp'].dt.hour\n",
    "\n",
    "new_df.loc[:,:]['last_test'] = new_df['timestamp'].dt.hour"
   ]
  },
  {
   "cell_type": "code",
   "execution_count": 51,
   "metadata": {},
   "outputs": [
    {
     "data": {
      "text/html": [
       "<div>\n",
       "<style scoped>\n",
       "    .dataframe tbody tr th:only-of-type {\n",
       "        vertical-align: middle;\n",
       "    }\n",
       "\n",
       "    .dataframe tbody tr th {\n",
       "        vertical-align: top;\n",
       "    }\n",
       "\n",
       "    .dataframe thead th {\n",
       "        text-align: right;\n",
       "    }\n",
       "</style>\n",
       "<table border=\"1\" class=\"dataframe\">\n",
       "  <thead>\n",
       "    <tr style=\"text-align: right;\">\n",
       "      <th></th>\n",
       "      <th>tripduration</th>\n",
       "      <th>starttime</th>\n",
       "      <th>stoptime</th>\n",
       "      <th>start station id</th>\n",
       "      <th>start station name</th>\n",
       "      <th>start station latitude</th>\n",
       "      <th>start station longitude</th>\n",
       "      <th>end station id</th>\n",
       "      <th>end station name</th>\n",
       "      <th>end station latitude</th>\n",
       "      <th>...</th>\n",
       "      <th>bikeid</th>\n",
       "      <th>usertype</th>\n",
       "      <th>birth year</th>\n",
       "      <th>gender</th>\n",
       "      <th>timestamp</th>\n",
       "      <th>time_hour</th>\n",
       "      <th>test_time</th>\n",
       "      <th>last_test</th>\n",
       "      <th>timestamp_date_rng</th>\n",
       "      <th>hour</th>\n",
       "    </tr>\n",
       "  </thead>\n",
       "  <tbody>\n",
       "    <tr>\n",
       "      <td>24</td>\n",
       "      <td>946</td>\n",
       "      <td>2019-09-01 01:26:45.2870</td>\n",
       "      <td>2019-09-01 01:42:31.8160</td>\n",
       "      <td>3186</td>\n",
       "      <td>Grove St PATH</td>\n",
       "      <td>40.719586</td>\n",
       "      <td>-74.043117</td>\n",
       "      <td>3199</td>\n",
       "      <td>Newport Pkwy</td>\n",
       "      <td>40.728745</td>\n",
       "      <td>...</td>\n",
       "      <td>29641</td>\n",
       "      <td>Subscriber</td>\n",
       "      <td>1962</td>\n",
       "      <td>1</td>\n",
       "      <td>2019-09-01 01:26:45.287</td>\n",
       "      <td>1</td>\n",
       "      <td>1</td>\n",
       "      <td>1</td>\n",
       "      <td>2019-09-01 01:26:45.287</td>\n",
       "      <td>1</td>\n",
       "    </tr>\n",
       "    <tr>\n",
       "      <td>25</td>\n",
       "      <td>314</td>\n",
       "      <td>2019-09-01 01:42:08.7720</td>\n",
       "      <td>2019-09-01 01:47:23.7460</td>\n",
       "      <td>3186</td>\n",
       "      <td>Grove St PATH</td>\n",
       "      <td>40.719586</td>\n",
       "      <td>-74.043117</td>\n",
       "      <td>3639</td>\n",
       "      <td>Harborside</td>\n",
       "      <td>40.719252</td>\n",
       "      <td>...</td>\n",
       "      <td>29636</td>\n",
       "      <td>Subscriber</td>\n",
       "      <td>1981</td>\n",
       "      <td>1</td>\n",
       "      <td>2019-09-01 01:42:08.772</td>\n",
       "      <td>1</td>\n",
       "      <td>1</td>\n",
       "      <td>1</td>\n",
       "      <td>2019-09-01 01:42:08.772</td>\n",
       "      <td>1</td>\n",
       "    </tr>\n",
       "    <tr>\n",
       "      <td>101</td>\n",
       "      <td>292</td>\n",
       "      <td>2019-09-01 08:34:45.9530</td>\n",
       "      <td>2019-09-01 08:39:38.8120</td>\n",
       "      <td>3186</td>\n",
       "      <td>Grove St PATH</td>\n",
       "      <td>40.719586</td>\n",
       "      <td>-74.043117</td>\n",
       "      <td>3681</td>\n",
       "      <td>Grand St</td>\n",
       "      <td>40.715178</td>\n",
       "      <td>...</td>\n",
       "      <td>29617</td>\n",
       "      <td>Subscriber</td>\n",
       "      <td>1985</td>\n",
       "      <td>2</td>\n",
       "      <td>2019-09-01 08:34:45.953</td>\n",
       "      <td>8</td>\n",
       "      <td>8</td>\n",
       "      <td>8</td>\n",
       "      <td>2019-09-01 08:34:45.953</td>\n",
       "      <td>8</td>\n",
       "    </tr>\n",
       "    <tr>\n",
       "      <td>138</td>\n",
       "      <td>256</td>\n",
       "      <td>2019-09-01 09:36:53.4370</td>\n",
       "      <td>2019-09-01 09:41:09.6050</td>\n",
       "      <td>3186</td>\n",
       "      <td>Grove St PATH</td>\n",
       "      <td>40.719586</td>\n",
       "      <td>-74.043117</td>\n",
       "      <td>3209</td>\n",
       "      <td>Brunswick St</td>\n",
       "      <td>40.724176</td>\n",
       "      <td>...</td>\n",
       "      <td>26216</td>\n",
       "      <td>Subscriber</td>\n",
       "      <td>1980</td>\n",
       "      <td>1</td>\n",
       "      <td>2019-09-01 09:36:53.437</td>\n",
       "      <td>9</td>\n",
       "      <td>9</td>\n",
       "      <td>9</td>\n",
       "      <td>2019-09-01 09:36:53.437</td>\n",
       "      <td>9</td>\n",
       "    </tr>\n",
       "    <tr>\n",
       "      <td>175</td>\n",
       "      <td>284</td>\n",
       "      <td>2019-09-01 10:18:34.8520</td>\n",
       "      <td>2019-09-01 10:23:19.7560</td>\n",
       "      <td>3186</td>\n",
       "      <td>Grove St PATH</td>\n",
       "      <td>40.719586</td>\n",
       "      <td>-74.043117</td>\n",
       "      <td>3276</td>\n",
       "      <td>Marin Light Rail</td>\n",
       "      <td>40.714584</td>\n",
       "      <td>...</td>\n",
       "      <td>26182</td>\n",
       "      <td>Subscriber</td>\n",
       "      <td>1991</td>\n",
       "      <td>1</td>\n",
       "      <td>2019-09-01 10:18:34.852</td>\n",
       "      <td>10</td>\n",
       "      <td>10</td>\n",
       "      <td>10</td>\n",
       "      <td>2019-09-01 10:18:34.852</td>\n",
       "      <td>10</td>\n",
       "    </tr>\n",
       "    <tr>\n",
       "      <td>...</td>\n",
       "      <td>...</td>\n",
       "      <td>...</td>\n",
       "      <td>...</td>\n",
       "      <td>...</td>\n",
       "      <td>...</td>\n",
       "      <td>...</td>\n",
       "      <td>...</td>\n",
       "      <td>...</td>\n",
       "      <td>...</td>\n",
       "      <td>...</td>\n",
       "      <td>...</td>\n",
       "      <td>...</td>\n",
       "      <td>...</td>\n",
       "      <td>...</td>\n",
       "      <td>...</td>\n",
       "      <td>...</td>\n",
       "      <td>...</td>\n",
       "      <td>...</td>\n",
       "      <td>...</td>\n",
       "      <td>...</td>\n",
       "      <td>...</td>\n",
       "    </tr>\n",
       "    <tr>\n",
       "      <td>49167</td>\n",
       "      <td>2384</td>\n",
       "      <td>2019-09-30 20:48:53.1480</td>\n",
       "      <td>2019-09-30 21:28:37.5320</td>\n",
       "      <td>3186</td>\n",
       "      <td>Grove St PATH</td>\n",
       "      <td>40.719586</td>\n",
       "      <td>-74.043117</td>\n",
       "      <td>3186</td>\n",
       "      <td>Grove St PATH</td>\n",
       "      <td>40.719586</td>\n",
       "      <td>...</td>\n",
       "      <td>26207</td>\n",
       "      <td>Subscriber</td>\n",
       "      <td>1998</td>\n",
       "      <td>1</td>\n",
       "      <td>2019-09-30 20:48:53.148</td>\n",
       "      <td>20</td>\n",
       "      <td>20</td>\n",
       "      <td>20</td>\n",
       "      <td>2019-09-30 20:48:53.148</td>\n",
       "      <td>20</td>\n",
       "    </tr>\n",
       "    <tr>\n",
       "      <td>49195</td>\n",
       "      <td>1589</td>\n",
       "      <td>2019-09-30 21:28:59.0470</td>\n",
       "      <td>2019-09-30 21:55:28.5670</td>\n",
       "      <td>3186</td>\n",
       "      <td>Grove St PATH</td>\n",
       "      <td>40.719586</td>\n",
       "      <td>-74.043117</td>\n",
       "      <td>3186</td>\n",
       "      <td>Grove St PATH</td>\n",
       "      <td>40.719586</td>\n",
       "      <td>...</td>\n",
       "      <td>26207</td>\n",
       "      <td>Subscriber</td>\n",
       "      <td>1998</td>\n",
       "      <td>1</td>\n",
       "      <td>2019-09-30 21:28:59.047</td>\n",
       "      <td>21</td>\n",
       "      <td>21</td>\n",
       "      <td>21</td>\n",
       "      <td>2019-09-30 21:28:59.047</td>\n",
       "      <td>21</td>\n",
       "    </tr>\n",
       "    <tr>\n",
       "      <td>49206</td>\n",
       "      <td>641</td>\n",
       "      <td>2019-09-30 21:55:44.4300</td>\n",
       "      <td>2019-09-30 22:06:26.0550</td>\n",
       "      <td>3186</td>\n",
       "      <td>Grove St PATH</td>\n",
       "      <td>40.719586</td>\n",
       "      <td>-74.043117</td>\n",
       "      <td>3186</td>\n",
       "      <td>Grove St PATH</td>\n",
       "      <td>40.719586</td>\n",
       "      <td>...</td>\n",
       "      <td>26207</td>\n",
       "      <td>Subscriber</td>\n",
       "      <td>1998</td>\n",
       "      <td>1</td>\n",
       "      <td>2019-09-30 21:55:44.430</td>\n",
       "      <td>21</td>\n",
       "      <td>21</td>\n",
       "      <td>21</td>\n",
       "      <td>2019-09-30 21:55:44.430</td>\n",
       "      <td>21</td>\n",
       "    </tr>\n",
       "    <tr>\n",
       "      <td>49211</td>\n",
       "      <td>257</td>\n",
       "      <td>2019-09-30 22:09:30.3320</td>\n",
       "      <td>2019-09-30 22:13:47.4560</td>\n",
       "      <td>3186</td>\n",
       "      <td>Grove St PATH</td>\n",
       "      <td>40.719586</td>\n",
       "      <td>-74.043117</td>\n",
       "      <td>3205</td>\n",
       "      <td>JC Medical Center</td>\n",
       "      <td>40.716540</td>\n",
       "      <td>...</td>\n",
       "      <td>26207</td>\n",
       "      <td>Subscriber</td>\n",
       "      <td>1975</td>\n",
       "      <td>1</td>\n",
       "      <td>2019-09-30 22:09:30.332</td>\n",
       "      <td>22</td>\n",
       "      <td>22</td>\n",
       "      <td>22</td>\n",
       "      <td>2019-09-30 22:09:30.332</td>\n",
       "      <td>22</td>\n",
       "    </tr>\n",
       "    <tr>\n",
       "      <td>49225</td>\n",
       "      <td>291</td>\n",
       "      <td>2019-09-30 22:35:14.0120</td>\n",
       "      <td>2019-09-30 22:40:05.5670</td>\n",
       "      <td>3186</td>\n",
       "      <td>Grove St PATH</td>\n",
       "      <td>40.719586</td>\n",
       "      <td>-74.043117</td>\n",
       "      <td>3639</td>\n",
       "      <td>Harborside</td>\n",
       "      <td>40.719252</td>\n",
       "      <td>...</td>\n",
       "      <td>29217</td>\n",
       "      <td>Subscriber</td>\n",
       "      <td>1975</td>\n",
       "      <td>2</td>\n",
       "      <td>2019-09-30 22:35:14.012</td>\n",
       "      <td>22</td>\n",
       "      <td>22</td>\n",
       "      <td>22</td>\n",
       "      <td>2019-09-30 22:35:14.012</td>\n",
       "      <td>22</td>\n",
       "    </tr>\n",
       "  </tbody>\n",
       "</table>\n",
       "<p>5282 rows × 21 columns</p>\n",
       "</div>"
      ],
      "text/plain": [
       "       tripduration                 starttime                  stoptime  \\\n",
       "24              946  2019-09-01 01:26:45.2870  2019-09-01 01:42:31.8160   \n",
       "25              314  2019-09-01 01:42:08.7720  2019-09-01 01:47:23.7460   \n",
       "101             292  2019-09-01 08:34:45.9530  2019-09-01 08:39:38.8120   \n",
       "138             256  2019-09-01 09:36:53.4370  2019-09-01 09:41:09.6050   \n",
       "175             284  2019-09-01 10:18:34.8520  2019-09-01 10:23:19.7560   \n",
       "...             ...                       ...                       ...   \n",
       "49167          2384  2019-09-30 20:48:53.1480  2019-09-30 21:28:37.5320   \n",
       "49195          1589  2019-09-30 21:28:59.0470  2019-09-30 21:55:28.5670   \n",
       "49206           641  2019-09-30 21:55:44.4300  2019-09-30 22:06:26.0550   \n",
       "49211           257  2019-09-30 22:09:30.3320  2019-09-30 22:13:47.4560   \n",
       "49225           291  2019-09-30 22:35:14.0120  2019-09-30 22:40:05.5670   \n",
       "\n",
       "       start station id start station name  start station latitude  \\\n",
       "24                 3186      Grove St PATH               40.719586   \n",
       "25                 3186      Grove St PATH               40.719586   \n",
       "101                3186      Grove St PATH               40.719586   \n",
       "138                3186      Grove St PATH               40.719586   \n",
       "175                3186      Grove St PATH               40.719586   \n",
       "...                 ...                ...                     ...   \n",
       "49167              3186      Grove St PATH               40.719586   \n",
       "49195              3186      Grove St PATH               40.719586   \n",
       "49206              3186      Grove St PATH               40.719586   \n",
       "49211              3186      Grove St PATH               40.719586   \n",
       "49225              3186      Grove St PATH               40.719586   \n",
       "\n",
       "       start station longitude  end station id   end station name  \\\n",
       "24                  -74.043117            3199       Newport Pkwy   \n",
       "25                  -74.043117            3639         Harborside   \n",
       "101                 -74.043117            3681           Grand St   \n",
       "138                 -74.043117            3209       Brunswick St   \n",
       "175                 -74.043117            3276   Marin Light Rail   \n",
       "...                        ...             ...                ...   \n",
       "49167               -74.043117            3186      Grove St PATH   \n",
       "49195               -74.043117            3186      Grove St PATH   \n",
       "49206               -74.043117            3186      Grove St PATH   \n",
       "49211               -74.043117            3205  JC Medical Center   \n",
       "49225               -74.043117            3639         Harborside   \n",
       "\n",
       "       end station latitude  ...  bikeid    usertype birth year  gender  \\\n",
       "24                40.728745  ...   29641  Subscriber       1962       1   \n",
       "25                40.719252  ...   29636  Subscriber       1981       1   \n",
       "101               40.715178  ...   29617  Subscriber       1985       2   \n",
       "138               40.724176  ...   26216  Subscriber       1980       1   \n",
       "175               40.714584  ...   26182  Subscriber       1991       1   \n",
       "...                     ...  ...     ...         ...        ...     ...   \n",
       "49167             40.719586  ...   26207  Subscriber       1998       1   \n",
       "49195             40.719586  ...   26207  Subscriber       1998       1   \n",
       "49206             40.719586  ...   26207  Subscriber       1998       1   \n",
       "49211             40.716540  ...   26207  Subscriber       1975       1   \n",
       "49225             40.719252  ...   29217  Subscriber       1975       2   \n",
       "\n",
       "                    timestamp time_hour  test_time  last_test  \\\n",
       "24    2019-09-01 01:26:45.287         1          1          1   \n",
       "25    2019-09-01 01:42:08.772         1          1          1   \n",
       "101   2019-09-01 08:34:45.953         8          8          8   \n",
       "138   2019-09-01 09:36:53.437         9          9          9   \n",
       "175   2019-09-01 10:18:34.852        10         10         10   \n",
       "...                       ...       ...        ...        ...   \n",
       "49167 2019-09-30 20:48:53.148        20         20         20   \n",
       "49195 2019-09-30 21:28:59.047        21         21         21   \n",
       "49206 2019-09-30 21:55:44.430        21         21         21   \n",
       "49211 2019-09-30 22:09:30.332        22         22         22   \n",
       "49225 2019-09-30 22:35:14.012        22         22         22   \n",
       "\n",
       "           timestamp_date_rng hour  \n",
       "24    2019-09-01 01:26:45.287    1  \n",
       "25    2019-09-01 01:42:08.772    1  \n",
       "101   2019-09-01 08:34:45.953    8  \n",
       "138   2019-09-01 09:36:53.437    9  \n",
       "175   2019-09-01 10:18:34.852   10  \n",
       "...                       ...  ...  \n",
       "49167 2019-09-30 20:48:53.148   20  \n",
       "49195 2019-09-30 21:28:59.047   21  \n",
       "49206 2019-09-30 21:55:44.430   21  \n",
       "49211 2019-09-30 22:09:30.332   22  \n",
       "49225 2019-09-30 22:35:14.012   22  \n",
       "\n",
       "[5282 rows x 21 columns]"
      ]
     },
     "execution_count": 51,
     "metadata": {},
     "output_type": "execute_result"
    }
   ],
   "source": [
    "\n",
    "new_df.loc[:,:]"
   ]
  },
  {
   "cell_type": "code",
   "execution_count": 41,
   "metadata": {},
   "outputs": [
    {
     "data": {
      "image/png": "[encoded data removed]",
      "text/plain": [
       "<Figure size 432x288 with 1 Axes>"
      ]
     },
     "metadata": {
      "needs_background": "light"
     },
     "output_type": "display_data"
    }
   ],
   "source": [
    "# Step 5 - Use Value counts to find the most frequent hour ( value_counts()) - Visualize\n",
    "\n",
    "new_df['time_hour'].value_counts()\n",
    "\n",
    "ax = sns.countplot(x=\"time_hour\", data=new_df)"
   ]
  }
 ],
 "metadata": {
  "kernelspec": {
   "display_name": "Python 3",
   "language": "python",
   "name": "python3"
  },
  "language_info": {
   "codemirror_mode": {
    "name": "ipython",
    "version": 3
   },
   "file_extension": ".py",
   "mimetype": "text/x-python",
   "name": "python",
   "nbconvert_exporter": "python",
   "pygments_lexer": "ipython3",
   "version": "3.7.4"
  }
 },
 "nbformat": 4,
 "nbformat_minor": 2
}
