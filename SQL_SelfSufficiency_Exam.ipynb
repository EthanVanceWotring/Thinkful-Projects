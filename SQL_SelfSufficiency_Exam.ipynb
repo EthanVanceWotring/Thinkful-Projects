{
 "cells": [
  {
   "cell_type": "markdown",
   "metadata": {},
   "source": [
    "### The scenario\n",
    "\n",
    "You are a data analyst for your state’s department of education. You're given a database containing 2 tables: **naep** and **finance**. NAEP is the National Assessment of Educational Progress for states. The naep table contains each state’s average NAEP scores in math and reading for students in grades 4 and 8 for various years between 1992 and 2017. The finance table contains each state’s total K-12 education revenue and expenditures for the years 1992 through 2016."
   ]
  },
  {
   "cell_type": "markdown",
   "metadata": {},
   "source": [
    "### Database Connection\n",
    "\n",
    "Host: 142.93.121.174\n",
    "\n",
    "Username: dsbc_student\n",
    "\n",
    "Password: 7*.8G9QH21\n",
    "\n",
    "Port: 5432\n",
    "\n",
    "For this exam, you'll need to use the department_of_education database."
   ]
  },
  {
   "cell_type": "code",
   "execution_count": 1,
   "metadata": {},
   "outputs": [],
   "source": [
    "#import necessary packages...\n",
    "import pandas as pd\n",
    "from sqlalchemy import create_engine"
   ]
  },
  {
   "cell_type": "code",
   "execution_count": 2,
   "metadata": {},
   "outputs": [],
   "source": [
    "#connect to the database...\n",
    "\n",
    "postgres_user = 'dsbc_student'\n",
    "postgres_pw = '7*.8G9QH21'\n",
    "postgres_host = '142.93.121.174'\n",
    "postgres_port = '5432'\n",
    "postgres_db = 'department_of_education'\n",
    "\n",
    "\n",
    "# use the credentials to start a connection\n",
    "engine = create_engine('postgresql://{}:{}@{}:{}/{}'.format(\n",
    "    postgres_user, postgres_pw, postgres_host, postgres_port, postgres_db))"
   ]
  },
  {
   "cell_type": "code",
   "execution_count": 3,
   "metadata": {},
   "outputs": [],
   "source": [
    "#explore naep...\n",
    "naep = pd.read_sql_table('naep', engine)"
   ]
  },
  {
   "cell_type": "code",
   "execution_count": 4,
   "metadata": {},
   "outputs": [
    {
     "data": {
      "text/html": [
       "<div>\n",
       "<style scoped>\n",
       "    .dataframe tbody tr th:only-of-type {\n",
       "        vertical-align: middle;\n",
       "    }\n",
       "\n",
       "    .dataframe tbody tr th {\n",
       "        vertical-align: top;\n",
       "    }\n",
       "\n",
       "    .dataframe thead th {\n",
       "        text-align: right;\n",
       "    }\n",
       "</style>\n",
       "<table border=\"1\" class=\"dataframe\">\n",
       "  <thead>\n",
       "    <tr style=\"text-align: right;\">\n",
       "      <th></th>\n",
       "      <th>avg_math_4_score</th>\n",
       "      <th>avg_math_8_score</th>\n",
       "      <th>avg_reading_4_score</th>\n",
       "      <th>avg_reading_8_score</th>\n",
       "      <th>id</th>\n",
       "      <th>state</th>\n",
       "      <th>year</th>\n",
       "    </tr>\n",
       "  </thead>\n",
       "  <tbody>\n",
       "    <tr>\n",
       "      <td>0</td>\n",
       "      <td>232.171</td>\n",
       "      <td>268.312</td>\n",
       "      <td>216.420</td>\n",
       "      <td>257.687</td>\n",
       "      <td>2017_ALABAMA</td>\n",
       "      <td>ALABAMA</td>\n",
       "      <td>2017</td>\n",
       "    </tr>\n",
       "    <tr>\n",
       "      <td>1</td>\n",
       "      <td>230.456</td>\n",
       "      <td>277.016</td>\n",
       "      <td>207.038</td>\n",
       "      <td>257.668</td>\n",
       "      <td>2017_ALASKA</td>\n",
       "      <td>ALASKA</td>\n",
       "      <td>2017</td>\n",
       "    </tr>\n",
       "    <tr>\n",
       "      <td>2</td>\n",
       "      <td>234.436</td>\n",
       "      <td>282.248</td>\n",
       "      <td>215.466</td>\n",
       "      <td>262.957</td>\n",
       "      <td>2017_ARIZONA</td>\n",
       "      <td>ARIZONA</td>\n",
       "      <td>2017</td>\n",
       "    </tr>\n",
       "    <tr>\n",
       "      <td>3</td>\n",
       "      <td>233.848</td>\n",
       "      <td>273.760</td>\n",
       "      <td>216.108</td>\n",
       "      <td>259.956</td>\n",
       "      <td>2017_ARKANSAS</td>\n",
       "      <td>ARKANSAS</td>\n",
       "      <td>2017</td>\n",
       "    </tr>\n",
       "    <tr>\n",
       "      <td>4</td>\n",
       "      <td>232.263</td>\n",
       "      <td>276.638</td>\n",
       "      <td>215.422</td>\n",
       "      <td>262.521</td>\n",
       "      <td>2017_CALIFORNIA</td>\n",
       "      <td>CALIFORNIA</td>\n",
       "      <td>2017</td>\n",
       "    </tr>\n",
       "  </tbody>\n",
       "</table>\n",
       "</div>"
      ],
      "text/plain": [
       "   avg_math_4_score  avg_math_8_score  avg_reading_4_score  \\\n",
       "0           232.171           268.312              216.420   \n",
       "1           230.456           277.016              207.038   \n",
       "2           234.436           282.248              215.466   \n",
       "3           233.848           273.760              216.108   \n",
       "4           232.263           276.638              215.422   \n",
       "\n",
       "   avg_reading_8_score               id       state  year  \n",
       "0              257.687     2017_ALABAMA     ALABAMA  2017  \n",
       "1              257.668      2017_ALASKA      ALASKA  2017  \n",
       "2              262.957     2017_ARIZONA     ARIZONA  2017  \n",
       "3              259.956    2017_ARKANSAS    ARKANSAS  2017  \n",
       "4              262.521  2017_CALIFORNIA  CALIFORNIA  2017  "
      ]
     },
     "execution_count": 4,
     "metadata": {},
     "output_type": "execute_result"
    }
   ],
   "source": [
    "naep.head()"
   ]
  },
  {
   "cell_type": "code",
   "execution_count": 5,
   "metadata": {},
   "outputs": [
    {
     "data": {
      "text/plain": [
       "Index(['avg_math_4_score', 'avg_math_8_score', 'avg_reading_4_score',\n",
       "       'avg_reading_8_score', 'id', 'state', 'year'],\n",
       "      dtype='object')"
      ]
     },
     "execution_count": 5,
     "metadata": {},
     "output_type": "execute_result"
    }
   ],
   "source": [
    "naep.columns"
   ]
  },
  {
   "cell_type": "code",
   "execution_count": 6,
   "metadata": {},
   "outputs": [
    {
     "name": "stdout",
     "output_type": "stream",
     "text": [
      "<class 'pandas.core.frame.DataFrame'>\n",
      "RangeIndex: 561 entries, 0 to 560\n",
      "Data columns (total 7 columns):\n",
      "avg_math_4_score       535 non-null float64\n",
      "avg_math_8_score       531 non-null float64\n",
      "avg_reading_4_score    532 non-null float64\n",
      "avg_reading_8_score    497 non-null float64\n",
      "id                     561 non-null object\n",
      "state                  561 non-null object\n",
      "year                   561 non-null int64\n",
      "dtypes: float64(4), int64(1), object(2)\n",
      "memory usage: 30.8+ KB\n"
     ]
    }
   ],
   "source": [
    "naep.info()"
   ]
  },
  {
   "cell_type": "code",
   "execution_count": 7,
   "metadata": {},
   "outputs": [],
   "source": [
    "#explore finance...\n",
    "finance = pd.read_sql_table('finance', engine)"
   ]
  },
  {
   "cell_type": "code",
   "execution_count": 8,
   "metadata": {},
   "outputs": [
    {
     "data": {
      "text/html": [
       "<div>\n",
       "<style scoped>\n",
       "    .dataframe tbody tr th:only-of-type {\n",
       "        vertical-align: middle;\n",
       "    }\n",
       "\n",
       "    .dataframe tbody tr th {\n",
       "        vertical-align: top;\n",
       "    }\n",
       "\n",
       "    .dataframe thead th {\n",
       "        text-align: right;\n",
       "    }\n",
       "</style>\n",
       "<table border=\"1\" class=\"dataframe\">\n",
       "  <thead>\n",
       "    <tr style=\"text-align: right;\">\n",
       "      <th></th>\n",
       "      <th>capital_outlay_expenditure</th>\n",
       "      <th>enroll</th>\n",
       "      <th>federal_revenue</th>\n",
       "      <th>id</th>\n",
       "      <th>instruction_expenditure</th>\n",
       "      <th>local_revenue</th>\n",
       "      <th>other_expenditure</th>\n",
       "      <th>state</th>\n",
       "      <th>state_revenue</th>\n",
       "      <th>support_services_expenditure</th>\n",
       "      <th>total_expenditure</th>\n",
       "      <th>total_revenue</th>\n",
       "      <th>year</th>\n",
       "    </tr>\n",
       "  </thead>\n",
       "  <tbody>\n",
       "    <tr>\n",
       "      <td>0</td>\n",
       "      <td>174053</td>\n",
       "      <td>NaN</td>\n",
       "      <td>304177</td>\n",
       "      <td>1992_ALABAMA</td>\n",
       "      <td>1481703</td>\n",
       "      <td>715680</td>\n",
       "      <td>NaN</td>\n",
       "      <td>ALABAMA</td>\n",
       "      <td>1659028</td>\n",
       "      <td>735036</td>\n",
       "      <td>2653798</td>\n",
       "      <td>2678885</td>\n",
       "      <td>1992</td>\n",
       "    </tr>\n",
       "    <tr>\n",
       "      <td>1</td>\n",
       "      <td>37451</td>\n",
       "      <td>NaN</td>\n",
       "      <td>106780</td>\n",
       "      <td>1992_ALASKA</td>\n",
       "      <td>498362</td>\n",
       "      <td>222100</td>\n",
       "      <td>NaN</td>\n",
       "      <td>ALASKA</td>\n",
       "      <td>720711</td>\n",
       "      <td>350902</td>\n",
       "      <td>972488</td>\n",
       "      <td>1049591</td>\n",
       "      <td>1992</td>\n",
       "    </tr>\n",
       "    <tr>\n",
       "      <td>2</td>\n",
       "      <td>609114</td>\n",
       "      <td>NaN</td>\n",
       "      <td>297888</td>\n",
       "      <td>1992_ARIZONA</td>\n",
       "      <td>1435908</td>\n",
       "      <td>1590376</td>\n",
       "      <td>NaN</td>\n",
       "      <td>ARIZONA</td>\n",
       "      <td>1369815</td>\n",
       "      <td>1007732</td>\n",
       "      <td>3401580</td>\n",
       "      <td>3258079</td>\n",
       "      <td>1992</td>\n",
       "    </tr>\n",
       "    <tr>\n",
       "      <td>3</td>\n",
       "      <td>145212</td>\n",
       "      <td>NaN</td>\n",
       "      <td>178571</td>\n",
       "      <td>1992_ARKANSAS</td>\n",
       "      <td>964323</td>\n",
       "      <td>574603</td>\n",
       "      <td>NaN</td>\n",
       "      <td>ARKANSAS</td>\n",
       "      <td>958785</td>\n",
       "      <td>483488</td>\n",
       "      <td>1743022</td>\n",
       "      <td>1711959</td>\n",
       "      <td>1992</td>\n",
       "    </tr>\n",
       "    <tr>\n",
       "      <td>4</td>\n",
       "      <td>2044688</td>\n",
       "      <td>NaN</td>\n",
       "      <td>2072470</td>\n",
       "      <td>1992_CALIFORNIA</td>\n",
       "      <td>14358922</td>\n",
       "      <td>7641041</td>\n",
       "      <td>NaN</td>\n",
       "      <td>CALIFORNIA</td>\n",
       "      <td>16546514</td>\n",
       "      <td>8520926</td>\n",
       "      <td>27138832</td>\n",
       "      <td>26260025</td>\n",
       "      <td>1992</td>\n",
       "    </tr>\n",
       "  </tbody>\n",
       "</table>\n",
       "</div>"
      ],
      "text/plain": [
       "   capital_outlay_expenditure  enroll  federal_revenue               id  \\\n",
       "0                      174053     NaN           304177     1992_ALABAMA   \n",
       "1                       37451     NaN           106780      1992_ALASKA   \n",
       "2                      609114     NaN           297888     1992_ARIZONA   \n",
       "3                      145212     NaN           178571    1992_ARKANSAS   \n",
       "4                     2044688     NaN          2072470  1992_CALIFORNIA   \n",
       "\n",
       "   instruction_expenditure  local_revenue  other_expenditure       state  \\\n",
       "0                  1481703         715680                NaN     ALABAMA   \n",
       "1                   498362         222100                NaN      ALASKA   \n",
       "2                  1435908        1590376                NaN     ARIZONA   \n",
       "3                   964323         574603                NaN    ARKANSAS   \n",
       "4                 14358922        7641041                NaN  CALIFORNIA   \n",
       "\n",
       "   state_revenue  support_services_expenditure  total_expenditure  \\\n",
       "0        1659028                        735036            2653798   \n",
       "1         720711                        350902             972488   \n",
       "2        1369815                       1007732            3401580   \n",
       "3         958785                        483488            1743022   \n",
       "4       16546514                       8520926           27138832   \n",
       "\n",
       "   total_revenue  year  \n",
       "0        2678885  1992  \n",
       "1        1049591  1992  \n",
       "2        3258079  1992  \n",
       "3        1711959  1992  \n",
       "4       26260025  1992  "
      ]
     },
     "execution_count": 8,
     "metadata": {},
     "output_type": "execute_result"
    }
   ],
   "source": [
    "finance.head()"
   ]
  },
  {
   "cell_type": "code",
   "execution_count": 9,
   "metadata": {},
   "outputs": [
    {
     "name": "stdout",
     "output_type": "stream",
     "text": [
      "<class 'pandas.core.frame.DataFrame'>\n",
      "RangeIndex: 1275 entries, 0 to 1274\n",
      "Data columns (total 13 columns):\n",
      "capital_outlay_expenditure      1275 non-null int64\n",
      "enroll                          1224 non-null float64\n",
      "federal_revenue                 1275 non-null int64\n",
      "id                              1275 non-null object\n",
      "instruction_expenditure         1275 non-null int64\n",
      "local_revenue                   1275 non-null int64\n",
      "other_expenditure               1224 non-null float64\n",
      "state                           1275 non-null object\n",
      "state_revenue                   1275 non-null int64\n",
      "support_services_expenditure    1275 non-null int64\n",
      "total_expenditure               1275 non-null int64\n",
      "total_revenue                   1275 non-null int64\n",
      "year                            1275 non-null int64\n",
      "dtypes: float64(2), int64(9), object(2)\n",
      "memory usage: 129.6+ KB\n"
     ]
    }
   ],
   "source": [
    "finance.info()"
   ]
  },
  {
   "cell_type": "markdown",
   "metadata": {},
   "source": [
    "### Data exploration"
   ]
  },
  {
   "cell_type": "markdown",
   "metadata": {},
   "source": [
    "##### Question 1\n",
    "\n",
    "Write a query that allows you to inspect the schema of the naep table."
   ]
  },
  {
   "cell_type": "code",
   "execution_count": 10,
   "metadata": {},
   "outputs": [
    {
     "name": "stdout",
     "output_type": "stream",
     "text": [
      "('department_of_education', 'public', 'naep', 'avg_math_4_score', 1, None, 'YES', 'numeric', None, None, None, 10, None, None, None, None, None, None, None, None, None, None, None, None, None, 'department_of_education', 'pg_catalog', 'numeric', None, None, None, None, '1', 'NO', 'NO', None, None, None, None, None, 'NO', 'NEVER', None, 'YES')\n",
      "('department_of_education', 'public', 'naep', 'avg_math_8_score', 2, None, 'YES', 'numeric', None, None, None, 10, None, None, None, None, None, None, None, None, None, None, None, None, None, 'department_of_education', 'pg_catalog', 'numeric', None, None, None, None, '2', 'NO', 'NO', None, None, None, None, None, 'NO', 'NEVER', None, 'YES')\n",
      "('department_of_education', 'public', 'naep', 'avg_reading_4_score', 3, None, 'YES', 'numeric', None, None, None, 10, None, None, None, None, None, None, None, None, None, None, None, None, None, 'department_of_education', 'pg_catalog', 'numeric', None, None, None, None, '3', 'NO', 'NO', None, None, None, None, None, 'NO', 'NEVER', None, 'YES')\n",
      "('department_of_education', 'public', 'naep', 'avg_reading_8_score', 4, None, 'YES', 'numeric', None, None, None, 10, None, None, None, None, None, None, None, None, None, None, None, None, None, 'department_of_education', 'pg_catalog', 'numeric', None, None, None, None, '4', 'NO', 'NO', None, None, None, None, None, 'NO', 'NEVER', None, 'YES')\n",
      "('department_of_education', 'public', 'naep', 'id', 5, None, 'YES', 'character varying', None, 1073741824, None, None, None, None, None, None, None, None, None, None, None, None, None, None, None, 'department_of_education', 'pg_catalog', 'varchar', None, None, None, None, '5', 'NO', 'NO', None, None, None, None, None, 'NO', 'NEVER', None, 'YES')\n"
     ]
    }
   ],
   "source": [
    "sql = '''\n",
    "SELECT * \n",
    "FROM INFORMATION_SCHEMA.COLUMNS \n",
    "WHERE TABLE_NAME='naep';\n",
    "'''\n",
    "\n",
    "results = engine.execute(sql)\n",
    "engine.dispose()\n",
    "rows = results.fetchall()\n",
    "\n",
    "# print some results just to see what we got\n",
    "for row in rows[:5]:\n",
    "  print(row)"
   ]
  },
  {
   "cell_type": "markdown",
   "metadata": {},
   "source": [
    "##### Question 2\n",
    "\n",
    "Write a query that returns the first 50 records of the naep table."
   ]
  },
  {
   "cell_type": "code",
   "execution_count": 11,
   "metadata": {
    "scrolled": true
   },
   "outputs": [
    {
     "name": "stdout",
     "output_type": "stream",
     "text": [
      "(Decimal('232.171'), Decimal('268.312'), Decimal('216.42'), Decimal('257.687'), '2017_ALABAMA', 'ALABAMA', 2017)\n",
      "(Decimal('230.456'), Decimal('277.016'), Decimal('207.038'), Decimal('257.668'), '2017_ALASKA', 'ALASKA', 2017)\n",
      "(Decimal('234.436'), Decimal('282.248'), Decimal('215.466'), Decimal('262.957'), '2017_ARIZONA', 'ARIZONA', 2017)\n",
      "(Decimal('233.848'), Decimal('273.76'), Decimal('216.108'), Decimal('259.956'), '2017_ARKANSAS', 'ARKANSAS', 2017)\n",
      "(Decimal('232.263'), Decimal('276.638'), Decimal('215.422'), Decimal('262.521'), '2017_CALIFORNIA', 'CALIFORNIA', 2017)\n",
      "(Decimal('240.695'), Decimal('286.248'), Decimal('224.692'), Decimal('270.339'), '2017_COLORADO', 'COLORADO', 2017)\n",
      "(Decimal('239.238'), Decimal('284.144'), Decimal('228.355'), Decimal('272.538'), '2017_CONNECTICUT', 'CONNECTICUT', 2017)\n",
      "(Decimal('236.128'), Decimal('278.023'), Decimal('221.482'), Decimal('263.089'), '2017_DELAWARE', 'DELAWARE', 2017)\n",
      "(Decimal('231.32'), Decimal('265.78'), Decimal('213.382'), Decimal('246.788'), '2017_DISTRICT_OF_COLUMBIA', 'DISTRICT_OF_COLUMBIA', 2017)\n",
      "(Decimal('246.368'), Decimal('279.12'), Decimal('228.273'), Decimal('280.499'), '2017_FLORIDA', 'FLORIDA', 2017)\n",
      "(Decimal('236.384'), Decimal('281.035'), Decimal('219.683'), Decimal('266.553'), '2017_GEORGIA', 'GEORGIA', 2017)\n",
      "(Decimal('237.92'), Decimal('277.337'), Decimal('216.365'), Decimal('266.33'), '2017_HAWAII', 'HAWAII', 2017)\n",
      "(Decimal('239.968'), Decimal('284.372'), Decimal('222.791'), Decimal('260.982'), '2017_IDAHO', 'IDAHO', 2017)\n",
      "(Decimal('238.119'), Decimal('281.618'), Decimal('220.366'), Decimal('269.673'), '2017_ILLINOIS', 'ILLINOIS', 2017)\n",
      "(Decimal('246.514'), Decimal('287.706'), Decimal('226.418'), Decimal('266.929'), '2017_INDIANA', 'INDIANA', 2017)\n",
      "(Decimal('243.107'), Decimal('286.239'), Decimal('221.747'), Decimal('272.024'), '2017_IOWA', 'IOWA', 2017)\n",
      "(Decimal('241.213'), Decimal('285.284'), Decimal('223.268'), Decimal('267.676'), '2017_KANSAS', 'KANSAS', 2017)\n",
      "(Decimal('239.178'), Decimal('277.714'), Decimal('224.081'), Decimal('267.49'), '2017_KENTUCKY', 'KENTUCKY', 2017)\n",
      "(Decimal('228.972'), Decimal('266.507'), Decimal('211.601'), Decimal('265.133'), '2017_LOUISIANA', 'LOUISIANA', 2017)\n",
      "(Decimal('239.899'), Decimal('284.003'), Decimal('221.389'), Decimal('256.751'), '2017_MAINE', 'MAINE', 2017)\n",
      "(Decimal('240.601'), Decimal('280.91'), Decimal('225.049'), Decimal('268.931'), '2017_MARYLAND', 'MARYLAND', 2017)\n",
      "(Decimal('249.103'), Decimal('297.042'), Decimal('235.7'), Decimal('267.251'), '2017_MASSACHUSETTS', 'MASSACHUSETTS', 2017)\n",
      "(Decimal('235.555'), Decimal('279.505'), Decimal('217.753'), Decimal('277.783'), '2017_MICHIGAN', 'MICHIGAN', 2017)\n",
      "(Decimal('248.804'), Decimal('293.962'), Decimal('224.539'), Decimal('265.469'), '2017_MINNESOTA', 'MINNESOTA', 2017)\n",
      "(Decimal('234.694'), Decimal('270.915'), Decimal('215.203'), Decimal('268.617'), '2017_MISSISSIPPI', 'MISSISSIPPI', 2017)\n",
      "(Decimal('239.502'), Decimal('280.596'), Decimal('222.681'), Decimal('256.345'), '2017_MISSOURI', 'MISSOURI', 2017)\n",
      "(Decimal('240.722'), Decimal('285.6'), Decimal('222.327'), Decimal('266.035'), '2017_MONTANA', 'MONTANA', 2017)\n",
      "(Decimal('245.591'), Decimal('288.406'), Decimal('224.096'), Decimal('267.208'), '2017_NEBRASKA', 'NEBRASKA', 2017)\n",
      "(Decimal('231.685'), Decimal('275.365'), Decimal('214.842'), Decimal('268.529'), '2017_NEVADA', 'NEVADA', 2017)\n",
      "(Decimal('245.32'), Decimal('293.291'), Decimal('228.901'), Decimal('259.806'), '2017_NEW_HAMPSHIRE', 'NEW_HAMPSHIRE', 2017)\n",
      "(Decimal('247.855'), Decimal('291.699'), Decimal('232.943'), Decimal('274.786'), '2017_NEW_JERSEY', 'NEW_JERSEY', 2017)\n",
      "(Decimal('229.704'), Decimal('269.374'), Decimal('207.704'), Decimal('275.045'), '2017_NEW_MEXICO', 'NEW_MEXICO', 2017)\n",
      "(Decimal('235.548'), Decimal('281.688'), Decimal('221.884'), Decimal('255.579'), '2017_NEW_YORK', 'NEW_YORK', 2017)\n",
      "(Decimal('240.951'), Decimal('281.926'), Decimal('223.931'), Decimal('264.158'), '2017_NORTH_CAROLINA', 'NORTH_CAROLINA', 2017)\n",
      "(Decimal('244.244'), Decimal('288.172'), Decimal('221.519'), Decimal('262.72'), '2017_NORTH_DAKOTA', 'NORTH_DAKOTA', 2017)\n",
      "(Decimal('240.928'), Decimal('287.714'), Decimal('225.261'), Decimal('265.082'), '2017_OHIO', 'OHIO', 2017)\n",
      "(Decimal('237.326'), Decimal('274.689'), Decimal('216.588'), Decimal('268.451'), '2017_OKLAHOMA', 'OKLAHOMA', 2017)\n",
      "(Decimal('233.132'), Decimal('282.173'), Decimal('217.531'), Decimal('261.237'), '2017_OREGON', 'OREGON', 2017)\n",
      "(Decimal('241.672'), Decimal('286.394'), Decimal('224.925'), Decimal('266.217'), '2017_PENNSYLVANIA', 'PENNSYLVANIA', 2017)\n",
      "(Decimal('237.555'), Decimal('277.18'), Decimal('223.353'), Decimal('269.554'), '2017_RHODE_ISLAND', 'RHODE_ISLAND', 2017)\n",
      "(Decimal('234.044'), Decimal('274.674'), Decimal('213.128'), Decimal('265.768'), '2017_SOUTH_CAROLINA', 'SOUTH_CAROLINA', 2017)\n",
      "(Decimal('241.589'), Decimal('286.376'), Decimal('221.75'), Decimal('259.753'), '2017_SOUTH_DAKOTA', 'SOUTH_DAKOTA', 2017)\n",
      "(Decimal('236.693'), Decimal('278.778'), Decimal('218.953'), Decimal('267.356'), '2017_TENNESSEE', 'TENNESSEE', 2017)\n",
      "(Decimal('240.944'), Decimal('282.32'), Decimal('214.878'), Decimal('262.047'), '2017_TEXAS', 'TEXAS', 2017)\n",
      "(Decimal('242.481'), Decimal('286.817'), Decimal('225.159'), Decimal('260.343'), '2017_UTAH', 'UTAH', 2017)\n",
      "(Decimal('240.893'), Decimal('287.623'), Decimal('226.445'), Decimal('268.752'), '2017_VERMONT', 'VERMONT', 2017)\n",
      "(Decimal('248.041'), Decimal('290.081'), Decimal('227.598'), Decimal('273.403'), '2017_VIRGINIA', 'VIRGINIA', 2017)\n",
      "(Decimal('241.701'), Decimal('289.131'), Decimal('223.123'), Decimal('267.745'), '2017_WASHINGTON', 'WASHINGTON', 2017)\n",
      "(Decimal('236.057'), Decimal('273.416'), Decimal('217.316'), Decimal('271.617'), '2017_WEST_VIRGINIA', 'WEST_VIRGINIA', 2017)\n",
      "(Decimal('240.389'), Decimal('288.143'), Decimal('219.613'), Decimal('258.7'), '2017_WISCONSIN', 'WISCONSIN', 2017)\n"
     ]
    }
   ],
   "source": [
    "sql = '''\n",
    "SELECT *\n",
    "FROM naep\n",
    "LIMIT 50;\n",
    "'''\n",
    "\n",
    "results = engine.execute(sql)\n",
    "engine.dispose()\n",
    "rows = results.fetchall()\n",
    "\n",
    "# print some results just to see what we got\n",
    "for row in rows:\n",
    "  print(row)"
   ]
  },
  {
   "cell_type": "markdown",
   "metadata": {},
   "source": [
    "##### Question 3\n",
    "\n",
    "Write a query that returns summary statistics for avg_math_4_score by state. Make sure to sort the results alphabetically by state name.\n",
    "\n",
    "These summary statistics include count, average, min, and max values."
   ]
  },
  {
   "cell_type": "code",
   "execution_count": 12,
   "metadata": {},
   "outputs": [
    {
     "name": "stdout",
     "output_type": "stream",
     "text": [
      "(Decimal('232.861'), 'ALABAMA')\n",
      "(Decimal('237.274'), 'ALASKA')\n",
      "(Decimal('240.305'), 'ARIZONA')\n",
      "(Decimal('239.891'), 'ARKANSAS')\n",
      "(Decimal('234.165'), 'CALIFORNIA')\n"
     ]
    }
   ],
   "source": [
    "#max scores by state...\n",
    "sql = '''\n",
    "SELECT MAX(avg_math_4_score) as max_math_score, state\n",
    "FROM naep\n",
    "GROUP BY state\n",
    "ORDER BY state;\n",
    "'''\n",
    "\n",
    "results = engine.execute(sql)\n",
    "engine.dispose()\n",
    "rows = results.fetchall()\n",
    "\n",
    "# print some results just to see what we got\n",
    "for row in rows[:5]:\n",
    "  print(row)"
   ]
  },
  {
   "cell_type": "code",
   "execution_count": 13,
   "metadata": {},
   "outputs": [
    {
     "name": "stdout",
     "output_type": "stream",
     "text": [
      "(Decimal('208.328'), 'ALABAMA')\n",
      "(Decimal('223.833'), 'ALASKA')\n",
      "(Decimal('215.254'), 'ARIZONA')\n",
      "(Decimal('210.206'), 'ARKANSAS')\n",
      "(Decimal('208.399'), 'CALIFORNIA')\n"
     ]
    }
   ],
   "source": [
    "#min scores by state...\n",
    "sql = '''\n",
    "SELECT MIN(avg_math_4_score) as min_math_score, state\n",
    "FROM naep\n",
    "GROUP BY state\n",
    "ORDER BY state;\n",
    "'''\n",
    "\n",
    "results = engine.execute(sql)\n",
    "engine.dispose()\n",
    "rows = results.fetchall()\n",
    "\n",
    "# print some results just to see what we got\n",
    "for row in rows[:5]:\n",
    "  print(row)"
   ]
  },
  {
   "cell_type": "code",
   "execution_count": 14,
   "metadata": {},
   "outputs": [
    {
     "name": "stdout",
     "output_type": "stream",
     "text": [
      "(Decimal('225'), 'ALABAMA')\n",
      "(Decimal('234'), 'ALASKA')\n",
      "(Decimal('229'), 'ARIZONA')\n",
      "(Decimal('230'), 'ARKANSAS')\n",
      "(Decimal('226'), 'CALIFORNIA')\n"
     ]
    }
   ],
   "source": [
    "#average score by state...\n",
    "sql = '''\n",
    "SELECT ROUND(AVG(avg_math_4_score), 0) as avg_math_score, state\n",
    "FROM naep\n",
    "GROUP BY state\n",
    "ORDER BY state;\n",
    "'''\n",
    "\n",
    "results = engine.execute(sql)\n",
    "engine.dispose()\n",
    "rows = results.fetchall()\n",
    "\n",
    "# print some results just to see what we got\n",
    "for row in rows[:5]:\n",
    "  print(row)"
   ]
  },
  {
   "cell_type": "markdown",
   "metadata": {},
   "source": [
    "##### Question 4\n",
    "\n",
    "You decide that for avg_math_4_score, a gap of more than 30 between max and min values is probably a bad sign.\n",
    "\n",
    "Write a query that alters the previous query so that it returns only the summary statistics for avg_math_4_score by state with differences in max and min values that are greater than 30."
   ]
  },
  {
   "cell_type": "code",
   "execution_count": 15,
   "metadata": {},
   "outputs": [
    {
     "name": "stdout",
     "output_type": "stream",
     "text": [
      "(Decimal('187.135'), Decimal('231.32'), Decimal('44.185'), 'DISTRICT_OF_COLUMBIA')\n",
      "(Decimal('201.828'), Decimal('234.694'), Decimal('32.866'), 'MISSISSIPPI')\n",
      "(Decimal('213.69'), Decimal('246.368'), Decimal('32.678'), 'FLORIDA')\n",
      "(Decimal('212.884'), Decimal('244.802'), Decimal('31.918'), 'NORTH_CAROLINA')\n",
      "(Decimal('204.14'), Decimal('234.282'), Decimal('30.142'), 'LOUISIANA')\n"
     ]
    }
   ],
   "source": [
    "sql = '''\n",
    "SELECT \n",
    "\tMIN(avg_math_4_score) as min_math_score,\n",
    "\tMAX(avg_math_4_score) as max_math_score,\n",
    "\tMAX(avg_math_4_score) - MIN(avg_math_4_score) AS diff_math_score,\n",
    "\tstate\n",
    "FROM naep\n",
    "GROUP BY state\n",
    "ORDER BY diff_math_score DESC\n",
    "LIMIT 5;\n",
    "'''\n",
    "\n",
    "results = engine.execute(sql)\n",
    "engine.dispose()\n",
    "rows = results.fetchall()\n",
    "\n",
    "# print some results just to see what we got\n",
    "for row in rows[:5]:\n",
    "  print(row)"
   ]
  },
  {
   "cell_type": "markdown",
   "metadata": {},
   "source": [
    "##### Question 5\n",
    "\n",
    "Write a query that returns a field called bottom_10_states that lists the states in the bottom 10 for avg_math_4_score in the year 2000."
   ]
  },
  {
   "cell_type": "code",
   "execution_count": 16,
   "metadata": {},
   "outputs": [
    {
     "name": "stdout",
     "output_type": "stream",
     "text": [
      "('DISTRICT_OF_COLUMBIA',)\n",
      "('MISSISSIPPI',)\n",
      "('CALIFORNIA',)\n",
      "('NEW_MEXICO',)\n",
      "('HAWAII',)\n",
      "('ARKANSAS',)\n",
      "('ALABAMA',)\n",
      "('LOUISIANA',)\n",
      "('ARIZONA',)\n",
      "('GEORGIA',)\n"
     ]
    }
   ],
   "source": [
    "sql = '''\n",
    "SELECT state AS bottom_10_states\n",
    "FROM naep\n",
    "WHERE year = 2000\n",
    "ORDER BY avg_math_4_score ASC LIMIT 10;\n",
    "'''\n",
    "\n",
    "results = engine.execute(sql)\n",
    "engine.dispose()\n",
    "rows = results.fetchall()\n",
    "\n",
    "# print some results just to see what we got\n",
    "for row in rows:\n",
    "  print(row)"
   ]
  },
  {
   "cell_type": "markdown",
   "metadata": {},
   "source": [
    "##### Question 6\n",
    "\n",
    "Write a query that calculates the average avg_math_4_score rounded to the nearest 2 decimal places over all states in the year 2000."
   ]
  },
  {
   "cell_type": "code",
   "execution_count": 17,
   "metadata": {},
   "outputs": [
    {
     "name": "stdout",
     "output_type": "stream",
     "text": [
      "(Decimal('224.80'),)\n"
     ]
    }
   ],
   "source": [
    "sql = '''\n",
    "SELECT ROUND(AVG(avg_math_4_score), 2) as avg_math_score\n",
    "FROM naep\n",
    "WHERE year = 2000;\n",
    "'''\n",
    "\n",
    "results = engine.execute(sql)\n",
    "engine.dispose()\n",
    "rows = results.fetchall()\n",
    "\n",
    "# print some results just to see what we got\n",
    "for row in rows[:5]:\n",
    "  print(row)"
   ]
  },
  {
   "cell_type": "markdown",
   "metadata": {},
   "source": [
    "##### Question 7\n",
    "\n",
    "Write a query that returns a field called below_average_states_y2000 that lists all states with an avg_math_4_score less than the average over all states in the year 2000."
   ]
  },
  {
   "cell_type": "code",
   "execution_count": 18,
   "metadata": {
    "scrolled": true
   },
   "outputs": [
    {
     "name": "stdout",
     "output_type": "stream",
     "text": [
      "(Decimal('224.80'),)\n"
     ]
    }
   ],
   "source": [
    "sql = '''\n",
    "SELECT avg_math_4_score, state AS below_average_states_y2000\n",
    "FROM naep\n",
    "WHERE \n",
    "    year = 2000\n",
    "    AND avg_math_4_score < (\n",
    "    SELECT ROUND(AVG(avg_math_4_score), 2) as avg_math_score\n",
    "    FROM naep\n",
    "    WHERE year = 2000\n",
    ")\n",
    "ORDER BY avg_math_4_score;\n",
    "'''\n",
    "\n",
    "# print some results just to see what we got\n",
    "for row in rows:\n",
    "  print(row)"
   ]
  },
  {
   "cell_type": "markdown",
   "metadata": {},
   "source": [
    "##### Question 8\n",
    "\n",
    "Write a query that returns a field called scores_missing_y2000 that lists any states with missing values in the avg_math_4_score column of the naep data table for the year 2000."
   ]
  },
  {
   "cell_type": "code",
   "execution_count": 19,
   "metadata": {},
   "outputs": [
    {
     "name": "stdout",
     "output_type": "stream",
     "text": [
      "(None, None, None, Decimal('264.303'), '2000_ALASKA', 'ALASKA', 2000, 'ALASKA')\n",
      "(None, None, None, Decimal('259.564'), '2000_COLORADO', 'COLORADO', 2000, 'COLORADO')\n",
      "(None, None, Decimal('224.304'), Decimal('267.001'), '2000_DELAWARE', 'DELAWARE', 2000, 'DELAWARE')\n",
      "(None, None, Decimal('214.405'), None, '2000_FLORIDA', 'FLORIDA', 2000, 'FLORIDA')\n",
      "(None, None, None, Decimal('263.345'), '2000_NEW_HAMPSHIRE', 'NEW_HAMPSHIRE', 2000, 'NEW_HAMPSHIRE')\n"
     ]
    }
   ],
   "source": [
    "sql = '''\n",
    "SELECT * , state AS scores_missing_y2000\n",
    "FROM naep\n",
    "WHERE \n",
    "\tavg_math_4_score IS NULL\n",
    "\tAND year = 2000;\n",
    "'''\n",
    "\n",
    "results = engine.execute(sql)\n",
    "engine.dispose()\n",
    "rows = results.fetchall()\n",
    "\n",
    "# print some results just to see what we got\n",
    "for row in rows[:5]:\n",
    "  print(row)"
   ]
  },
  {
   "cell_type": "markdown",
   "metadata": {},
   "source": [
    "##### Question 9\n",
    "\n",
    "Write a query that returns for the year 2000 the state, avg_math_4_score, and total_expenditure from the naep table left outer joined with the finance table, using id as the key and ordered by total_expenditure greatest to least. Be sure to round avg_math_4_score to the nearest 2 decimal places, and then filter out NULL avg_math_4_scores in order to see any correlation more clearly.\n"
   ]
  },
  {
   "cell_type": "code",
   "execution_count": 20,
   "metadata": {},
   "outputs": [
    {
     "name": "stdout",
     "output_type": "stream",
     "text": [
      "('WYOMING', Decimal('229.252'), 769923)\n",
      "('NORTH_DAKOTA', Decimal('230.893'), 802768)\n",
      "('DISTRICT_OF_COLUMBIA', Decimal('193.29'), 858807)\n",
      "('SOUTH_DAKOTA', None, 898609)\n",
      "('DELAWARE', None, 1040480)\n"
     ]
    }
   ],
   "source": [
    "sql = '''\n",
    "SELECT naep.state, avg_math_4_score, total_expenditure\n",
    "FROM naep LEFT OUTER JOIN finance\n",
    "ON naep.id = finance.id\n",
    "WHERE naep.year = 2000\n",
    "ORDER BY total_expenditure ASC;\n",
    "'''\n",
    "\n",
    "results = engine.execute(sql)\n",
    "engine.dispose()\n",
    "rows = results.fetchall()\n",
    "\n",
    "# print some results just to see what we got\n",
    "for row in rows[:5]:\n",
    "  print(row)"
   ]
  }
 ],
 "metadata": {
  "kernelspec": {
   "display_name": "Python 3",
   "language": "python",
   "name": "python3"
  },
  "language_info": {
   "codemirror_mode": {
    "name": "ipython",
    "version": 3
   },
   "file_extension": ".py",
   "mimetype": "text/x-python",
   "name": "python",
   "nbconvert_exporter": "python",
   "pygments_lexer": "ipython3",
   "version": "3.7.4"
  }
 },
 "nbformat": 4,
 "nbformat_minor": 2
}
