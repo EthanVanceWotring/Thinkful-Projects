{
 "cells": [
  {
   "cell_type": "code",
   "execution_count": 1,
   "metadata": {},
   "outputs": [],
   "source": [
    "import pandas as pd\n",
    "# Import the SQL ALchemy engine\n",
    "from sqlalchemy import create_engine"
   ]
  },
  {
   "cell_type": "code",
   "execution_count": 12,
   "metadata": {},
   "outputs": [],
   "source": [
    "# Database credentials\n",
    "\n",
    "postgres_user = 'dsbc_student'\n",
    "postgres_pw = '7*.8G9QH21'\n",
    "postgres_host = '142.93.121.174'\n",
    "postgres_port = '5432'\n",
    "postgres_db = 'baseball'\n",
    "\n",
    "\n",
    "# use the credentials to start a connection\n",
    "engine = create_engine('postgresql://{}:{}@{}:{}/{}'.format(\n",
    "    postgres_user, postgres_pw, postgres_host, postgres_port, postgres_db))"
   ]
  },
  {
   "cell_type": "code",
   "execution_count": 15,
   "metadata": {},
   "outputs": [],
   "source": [
    "people_df = pd.read_sql_table('people', engine)"
   ]
  },
  {
   "cell_type": "code",
   "execution_count": 16,
   "metadata": {},
   "outputs": [
    {
     "data": {
      "text/html": [
       "<div>\n",
       "<style scoped>\n",
       "    .dataframe tbody tr th:only-of-type {\n",
       "        vertical-align: middle;\n",
       "    }\n",
       "\n",
       "    .dataframe tbody tr th {\n",
       "        vertical-align: top;\n",
       "    }\n",
       "\n",
       "    .dataframe thead th {\n",
       "        text-align: right;\n",
       "    }\n",
       "</style>\n",
       "<table border=\"1\" class=\"dataframe\">\n",
       "  <thead>\n",
       "    <tr style=\"text-align: right;\">\n",
       "      <th></th>\n",
       "      <th>playerid</th>\n",
       "      <th>birthyear</th>\n",
       "      <th>birthcountry</th>\n",
       "      <th>deathyear</th>\n",
       "      <th>namefirst</th>\n",
       "      <th>namelast</th>\n",
       "      <th>weight</th>\n",
       "      <th>height</th>\n",
       "      <th>bats</th>\n",
       "      <th>throws</th>\n",
       "    </tr>\n",
       "  </thead>\n",
       "  <tbody>\n",
       "    <tr>\n",
       "      <td>0</td>\n",
       "      <td>aardsda01</td>\n",
       "      <td>1981.0</td>\n",
       "      <td>USA</td>\n",
       "      <td>NaN</td>\n",
       "      <td>David</td>\n",
       "      <td>Aardsma</td>\n",
       "      <td>215.0</td>\n",
       "      <td>75.0</td>\n",
       "      <td>R</td>\n",
       "      <td>R</td>\n",
       "    </tr>\n",
       "    <tr>\n",
       "      <td>1</td>\n",
       "      <td>aaronha01</td>\n",
       "      <td>1934.0</td>\n",
       "      <td>USA</td>\n",
       "      <td>NaN</td>\n",
       "      <td>Hank</td>\n",
       "      <td>Aaron</td>\n",
       "      <td>180.0</td>\n",
       "      <td>72.0</td>\n",
       "      <td>R</td>\n",
       "      <td>R</td>\n",
       "    </tr>\n",
       "    <tr>\n",
       "      <td>2</td>\n",
       "      <td>aaronto01</td>\n",
       "      <td>1939.0</td>\n",
       "      <td>USA</td>\n",
       "      <td>1984.0</td>\n",
       "      <td>Tommie</td>\n",
       "      <td>Aaron</td>\n",
       "      <td>190.0</td>\n",
       "      <td>75.0</td>\n",
       "      <td>R</td>\n",
       "      <td>R</td>\n",
       "    </tr>\n",
       "    <tr>\n",
       "      <td>3</td>\n",
       "      <td>aasedo01</td>\n",
       "      <td>1954.0</td>\n",
       "      <td>USA</td>\n",
       "      <td>NaN</td>\n",
       "      <td>Don</td>\n",
       "      <td>Aase</td>\n",
       "      <td>190.0</td>\n",
       "      <td>75.0</td>\n",
       "      <td>R</td>\n",
       "      <td>R</td>\n",
       "    </tr>\n",
       "    <tr>\n",
       "      <td>4</td>\n",
       "      <td>abadan01</td>\n",
       "      <td>1972.0</td>\n",
       "      <td>USA</td>\n",
       "      <td>NaN</td>\n",
       "      <td>Andy</td>\n",
       "      <td>Abad</td>\n",
       "      <td>184.0</td>\n",
       "      <td>73.0</td>\n",
       "      <td>L</td>\n",
       "      <td>L</td>\n",
       "    </tr>\n",
       "  </tbody>\n",
       "</table>\n",
       "</div>"
      ],
      "text/plain": [
       "    playerid  birthyear birthcountry  deathyear namefirst namelast  weight  \\\n",
       "0  aardsda01     1981.0          USA        NaN     David  Aardsma   215.0   \n",
       "1  aaronha01     1934.0          USA        NaN      Hank    Aaron   180.0   \n",
       "2  aaronto01     1939.0          USA     1984.0    Tommie    Aaron   190.0   \n",
       "3   aasedo01     1954.0          USA        NaN       Don     Aase   190.0   \n",
       "4   abadan01     1972.0          USA        NaN      Andy     Abad   184.0   \n",
       "\n",
       "   height bats throws  \n",
       "0    75.0    R      R  \n",
       "1    72.0    R      R  \n",
       "2    75.0    R      R  \n",
       "3    75.0    R      R  \n",
       "4    73.0    L      L  "
      ]
     },
     "execution_count": 16,
     "metadata": {},
     "output_type": "execute_result"
    }
   ],
   "source": [
    "people_df.head()"
   ]
  },
  {
   "cell_type": "code",
   "execution_count": 17,
   "metadata": {},
   "outputs": [
    {
     "name": "stdout",
     "output_type": "stream",
     "text": [
      "<class 'pandas.core.frame.DataFrame'>\n",
      "RangeIndex: 19370 entries, 0 to 19369\n",
      "Data columns (total 10 columns):\n",
      "playerid        19370 non-null object\n",
      "birthyear       19244 non-null float64\n",
      "birthcountry    19302 non-null object\n",
      "deathyear       9550 non-null float64\n",
      "namefirst       19332 non-null object\n",
      "namelast        19370 non-null object\n",
      "weight          18533 non-null float64\n",
      "height          18615 non-null float64\n",
      "bats            18185 non-null object\n",
      "throws          18391 non-null object\n",
      "dtypes: float64(4), object(6)\n",
      "memory usage: 1.5+ MB\n"
     ]
    }
   ],
   "source": [
    "people_df.info()"
   ]
  },
  {
   "cell_type": "code",
   "execution_count": 20,
   "metadata": {},
   "outputs": [
    {
     "data": {
      "text/plain": [
       "Index(['playerid', 'birthyear', 'birthcountry', 'deathyear', 'namefirst',\n",
       "       'namelast', 'weight', 'height', 'bats', 'throws'],\n",
       "      dtype='object')"
      ]
     },
     "execution_count": 20,
     "metadata": {},
     "output_type": "execute_result"
    }
   ],
   "source": [
    "people_df.columns"
   ]
  },
  {
   "cell_type": "code",
   "execution_count": 21,
   "metadata": {},
   "outputs": [],
   "source": [
    "hof_inducted = pd.read_sql_table('hof_inducted', engine)"
   ]
  },
  {
   "cell_type": "code",
   "execution_count": 22,
   "metadata": {},
   "outputs": [
    {
     "data": {
      "text/html": [
       "<div>\n",
       "<style scoped>\n",
       "    .dataframe tbody tr th:only-of-type {\n",
       "        vertical-align: middle;\n",
       "    }\n",
       "\n",
       "    .dataframe tbody tr th {\n",
       "        vertical-align: top;\n",
       "    }\n",
       "\n",
       "    .dataframe thead th {\n",
       "        text-align: right;\n",
       "    }\n",
       "</style>\n",
       "<table border=\"1\" class=\"dataframe\">\n",
       "  <thead>\n",
       "    <tr style=\"text-align: right;\">\n",
       "      <th></th>\n",
       "      <th>playerid</th>\n",
       "      <th>yearid</th>\n",
       "      <th>votedby</th>\n",
       "      <th>ballots</th>\n",
       "      <th>needed</th>\n",
       "      <th>votes</th>\n",
       "      <th>inducted</th>\n",
       "      <th>category</th>\n",
       "      <th>needed_note</th>\n",
       "    </tr>\n",
       "  </thead>\n",
       "  <tbody>\n",
       "    <tr>\n",
       "      <td>0</td>\n",
       "      <td>cobbty01</td>\n",
       "      <td>1936</td>\n",
       "      <td>BBWAA</td>\n",
       "      <td>226.0</td>\n",
       "      <td>170.0</td>\n",
       "      <td>222.0</td>\n",
       "      <td>Y</td>\n",
       "      <td>Player</td>\n",
       "      <td>None</td>\n",
       "    </tr>\n",
       "    <tr>\n",
       "      <td>1</td>\n",
       "      <td>ruthba01</td>\n",
       "      <td>1936</td>\n",
       "      <td>BBWAA</td>\n",
       "      <td>226.0</td>\n",
       "      <td>170.0</td>\n",
       "      <td>215.0</td>\n",
       "      <td>Y</td>\n",
       "      <td>Player</td>\n",
       "      <td>None</td>\n",
       "    </tr>\n",
       "    <tr>\n",
       "      <td>2</td>\n",
       "      <td>wagneho01</td>\n",
       "      <td>1936</td>\n",
       "      <td>BBWAA</td>\n",
       "      <td>226.0</td>\n",
       "      <td>170.0</td>\n",
       "      <td>215.0</td>\n",
       "      <td>Y</td>\n",
       "      <td>Player</td>\n",
       "      <td>None</td>\n",
       "    </tr>\n",
       "    <tr>\n",
       "      <td>3</td>\n",
       "      <td>mathech01</td>\n",
       "      <td>1936</td>\n",
       "      <td>BBWAA</td>\n",
       "      <td>226.0</td>\n",
       "      <td>170.0</td>\n",
       "      <td>205.0</td>\n",
       "      <td>Y</td>\n",
       "      <td>Player</td>\n",
       "      <td>None</td>\n",
       "    </tr>\n",
       "    <tr>\n",
       "      <td>4</td>\n",
       "      <td>johnswa01</td>\n",
       "      <td>1936</td>\n",
       "      <td>BBWAA</td>\n",
       "      <td>226.0</td>\n",
       "      <td>170.0</td>\n",
       "      <td>189.0</td>\n",
       "      <td>Y</td>\n",
       "      <td>Player</td>\n",
       "      <td>None</td>\n",
       "    </tr>\n",
       "  </tbody>\n",
       "</table>\n",
       "</div>"
      ],
      "text/plain": [
       "    playerid  yearid votedby  ballots  needed  votes inducted category  \\\n",
       "0   cobbty01    1936   BBWAA    226.0   170.0  222.0        Y   Player   \n",
       "1   ruthba01    1936   BBWAA    226.0   170.0  215.0        Y   Player   \n",
       "2  wagneho01    1936   BBWAA    226.0   170.0  215.0        Y   Player   \n",
       "3  mathech01    1936   BBWAA    226.0   170.0  205.0        Y   Player   \n",
       "4  johnswa01    1936   BBWAA    226.0   170.0  189.0        Y   Player   \n",
       "\n",
       "  needed_note  \n",
       "0        None  \n",
       "1        None  \n",
       "2        None  \n",
       "3        None  \n",
       "4        None  "
      ]
     },
     "execution_count": 22,
     "metadata": {},
     "output_type": "execute_result"
    }
   ],
   "source": [
    "hof_inducted.head()"
   ]
  },
  {
   "cell_type": "code",
   "execution_count": 23,
   "metadata": {},
   "outputs": [
    {
     "name": "stdout",
     "output_type": "stream",
     "text": [
      "<class 'pandas.core.frame.DataFrame'>\n",
      "RangeIndex: 323 entries, 0 to 322\n",
      "Data columns (total 9 columns):\n",
      "playerid       323 non-null object\n",
      "yearid         323 non-null int64\n",
      "votedby        323 non-null object\n",
      "ballots        126 non-null float64\n",
      "needed         123 non-null float64\n",
      "votes          126 non-null float64\n",
      "inducted       323 non-null object\n",
      "category       323 non-null object\n",
      "needed_note    3 non-null object\n",
      "dtypes: float64(3), int64(1), object(5)\n",
      "memory usage: 22.8+ KB\n"
     ]
    }
   ],
   "source": [
    "hof_inducted.info()"
   ]
  },
  {
   "cell_type": "code",
   "execution_count": 24,
   "metadata": {},
   "outputs": [
    {
     "data": {
      "text/plain": [
       "Index(['playerid', 'yearid', 'votedby', 'ballots', 'needed', 'votes',\n",
       "       'inducted', 'category', 'needed_note'],\n",
       "      dtype='object')"
      ]
     },
     "execution_count": 24,
     "metadata": {},
     "output_type": "execute_result"
    }
   ],
   "source": [
    "hof_inducted.columns"
   ]
  },
  {
   "cell_type": "code",
   "execution_count": 25,
   "metadata": {},
   "outputs": [],
   "source": [
    "hof_not_inducted = pd.read_sql_table('hof_not_inducted', engine)"
   ]
  },
  {
   "cell_type": "code",
   "execution_count": 26,
   "metadata": {},
   "outputs": [
    {
     "data": {
      "text/html": [
       "<div>\n",
       "<style scoped>\n",
       "    .dataframe tbody tr th:only-of-type {\n",
       "        vertical-align: middle;\n",
       "    }\n",
       "\n",
       "    .dataframe tbody tr th {\n",
       "        vertical-align: top;\n",
       "    }\n",
       "\n",
       "    .dataframe thead th {\n",
       "        text-align: right;\n",
       "    }\n",
       "</style>\n",
       "<table border=\"1\" class=\"dataframe\">\n",
       "  <thead>\n",
       "    <tr style=\"text-align: right;\">\n",
       "      <th></th>\n",
       "      <th>playerid</th>\n",
       "      <th>yearid</th>\n",
       "      <th>votedby</th>\n",
       "      <th>ballots</th>\n",
       "      <th>needed</th>\n",
       "      <th>votes</th>\n",
       "      <th>inducted</th>\n",
       "      <th>category</th>\n",
       "      <th>needed_note</th>\n",
       "    </tr>\n",
       "  </thead>\n",
       "  <tbody>\n",
       "    <tr>\n",
       "      <td>0</td>\n",
       "      <td>lajoina01</td>\n",
       "      <td>1936</td>\n",
       "      <td>BBWAA</td>\n",
       "      <td>226</td>\n",
       "      <td>170.0</td>\n",
       "      <td>146</td>\n",
       "      <td>N</td>\n",
       "      <td>Player</td>\n",
       "      <td>None</td>\n",
       "    </tr>\n",
       "    <tr>\n",
       "      <td>1</td>\n",
       "      <td>speaktr01</td>\n",
       "      <td>1936</td>\n",
       "      <td>BBWAA</td>\n",
       "      <td>226</td>\n",
       "      <td>170.0</td>\n",
       "      <td>133</td>\n",
       "      <td>N</td>\n",
       "      <td>Player</td>\n",
       "      <td>None</td>\n",
       "    </tr>\n",
       "    <tr>\n",
       "      <td>2</td>\n",
       "      <td>youngcy01</td>\n",
       "      <td>1936</td>\n",
       "      <td>BBWAA</td>\n",
       "      <td>226</td>\n",
       "      <td>170.0</td>\n",
       "      <td>111</td>\n",
       "      <td>N</td>\n",
       "      <td>Player</td>\n",
       "      <td>None</td>\n",
       "    </tr>\n",
       "    <tr>\n",
       "      <td>3</td>\n",
       "      <td>hornsro01</td>\n",
       "      <td>1936</td>\n",
       "      <td>BBWAA</td>\n",
       "      <td>226</td>\n",
       "      <td>170.0</td>\n",
       "      <td>105</td>\n",
       "      <td>N</td>\n",
       "      <td>Player</td>\n",
       "      <td>None</td>\n",
       "    </tr>\n",
       "    <tr>\n",
       "      <td>4</td>\n",
       "      <td>cochrmi01</td>\n",
       "      <td>1936</td>\n",
       "      <td>BBWAA</td>\n",
       "      <td>226</td>\n",
       "      <td>170.0</td>\n",
       "      <td>80</td>\n",
       "      <td>N</td>\n",
       "      <td>Player</td>\n",
       "      <td>None</td>\n",
       "    </tr>\n",
       "  </tbody>\n",
       "</table>\n",
       "</div>"
      ],
      "text/plain": [
       "    playerid  yearid votedby  ballots  needed  votes inducted category  \\\n",
       "0  lajoina01    1936   BBWAA      226   170.0    146        N   Player   \n",
       "1  speaktr01    1936   BBWAA      226   170.0    133        N   Player   \n",
       "2  youngcy01    1936   BBWAA      226   170.0    111        N   Player   \n",
       "3  hornsro01    1936   BBWAA      226   170.0    105        N   Player   \n",
       "4  cochrmi01    1936   BBWAA      226   170.0     80        N   Player   \n",
       "\n",
       "  needed_note  \n",
       "0        None  \n",
       "1        None  \n",
       "2        None  \n",
       "3        None  \n",
       "4        None  "
      ]
     },
     "execution_count": 26,
     "metadata": {},
     "output_type": "execute_result"
    }
   ],
   "source": [
    "hof_not_inducted.head()"
   ]
  },
  {
   "cell_type": "code",
   "execution_count": 27,
   "metadata": {},
   "outputs": [
    {
     "name": "stdout",
     "output_type": "stream",
     "text": [
      "<class 'pandas.core.frame.DataFrame'>\n",
      "RangeIndex: 3868 entries, 0 to 3867\n",
      "Data columns (total 9 columns):\n",
      "playerid       3868 non-null object\n",
      "yearid         3868 non-null int64\n",
      "votedby        3868 non-null object\n",
      "ballots        3868 non-null int64\n",
      "needed         3714 non-null float64\n",
      "votes          3868 non-null int64\n",
      "inducted       3868 non-null object\n",
      "category       3868 non-null object\n",
      "needed_note    154 non-null object\n",
      "dtypes: float64(1), int64(3), object(5)\n",
      "memory usage: 272.1+ KB\n"
     ]
    }
   ],
   "source": [
    "hof_not_inducted.info()"
   ]
  },
  {
   "cell_type": "code",
   "execution_count": 28,
   "metadata": {},
   "outputs": [
    {
     "data": {
      "text/plain": [
       "Index(['playerid', 'yearid', 'votedby', 'ballots', 'needed', 'votes',\n",
       "       'inducted', 'category', 'needed_note'],\n",
       "      dtype='object')"
      ]
     },
     "execution_count": 28,
     "metadata": {},
     "output_type": "execute_result"
    }
   ],
   "source": [
    "hof_not_inducted.columns"
   ]
  },
  {
   "cell_type": "code",
   "execution_count": 29,
   "metadata": {},
   "outputs": [],
   "source": [
    "salaries = pd.read_sql_table('salaries', engine)"
   ]
  },
  {
   "cell_type": "code",
   "execution_count": 30,
   "metadata": {},
   "outputs": [
    {
     "data": {
      "text/html": [
       "<div>\n",
       "<style scoped>\n",
       "    .dataframe tbody tr th:only-of-type {\n",
       "        vertical-align: middle;\n",
       "    }\n",
       "\n",
       "    .dataframe tbody tr th {\n",
       "        vertical-align: top;\n",
       "    }\n",
       "\n",
       "    .dataframe thead th {\n",
       "        text-align: right;\n",
       "    }\n",
       "</style>\n",
       "<table border=\"1\" class=\"dataframe\">\n",
       "  <thead>\n",
       "    <tr style=\"text-align: right;\">\n",
       "      <th></th>\n",
       "      <th>yearid</th>\n",
       "      <th>teamid</th>\n",
       "      <th>lgid</th>\n",
       "      <th>playerid</th>\n",
       "      <th>salary</th>\n",
       "    </tr>\n",
       "  </thead>\n",
       "  <tbody>\n",
       "    <tr>\n",
       "      <td>0</td>\n",
       "      <td>1985</td>\n",
       "      <td>ATL</td>\n",
       "      <td>NL</td>\n",
       "      <td>barkele01</td>\n",
       "      <td>870000</td>\n",
       "    </tr>\n",
       "    <tr>\n",
       "      <td>1</td>\n",
       "      <td>1985</td>\n",
       "      <td>ATL</td>\n",
       "      <td>NL</td>\n",
       "      <td>bedrost01</td>\n",
       "      <td>550000</td>\n",
       "    </tr>\n",
       "    <tr>\n",
       "      <td>2</td>\n",
       "      <td>1985</td>\n",
       "      <td>ATL</td>\n",
       "      <td>NL</td>\n",
       "      <td>benedbr01</td>\n",
       "      <td>545000</td>\n",
       "    </tr>\n",
       "    <tr>\n",
       "      <td>3</td>\n",
       "      <td>1985</td>\n",
       "      <td>ATL</td>\n",
       "      <td>NL</td>\n",
       "      <td>campri01</td>\n",
       "      <td>633333</td>\n",
       "    </tr>\n",
       "    <tr>\n",
       "      <td>4</td>\n",
       "      <td>1985</td>\n",
       "      <td>ATL</td>\n",
       "      <td>NL</td>\n",
       "      <td>ceronri01</td>\n",
       "      <td>625000</td>\n",
       "    </tr>\n",
       "  </tbody>\n",
       "</table>\n",
       "</div>"
      ],
      "text/plain": [
       "   yearid teamid lgid   playerid  salary\n",
       "0    1985    ATL   NL  barkele01  870000\n",
       "1    1985    ATL   NL  bedrost01  550000\n",
       "2    1985    ATL   NL  benedbr01  545000\n",
       "3    1985    ATL   NL   campri01  633333\n",
       "4    1985    ATL   NL  ceronri01  625000"
      ]
     },
     "execution_count": 30,
     "metadata": {},
     "output_type": "execute_result"
    }
   ],
   "source": [
    "salaries.head()"
   ]
  },
  {
   "cell_type": "code",
   "execution_count": 31,
   "metadata": {},
   "outputs": [
    {
     "name": "stdout",
     "output_type": "stream",
     "text": [
      "<class 'pandas.core.frame.DataFrame'>\n",
      "RangeIndex: 26428 entries, 0 to 26427\n",
      "Data columns (total 5 columns):\n",
      "yearid      26428 non-null int64\n",
      "teamid      26428 non-null object\n",
      "lgid        26428 non-null object\n",
      "playerid    26428 non-null object\n",
      "salary      26428 non-null int64\n",
      "dtypes: int64(2), object(3)\n",
      "memory usage: 1.0+ MB\n"
     ]
    }
   ],
   "source": [
    "salaries.info()"
   ]
  },
  {
   "cell_type": "code",
   "execution_count": 32,
   "metadata": {},
   "outputs": [
    {
     "data": {
      "text/plain": [
       "Index(['yearid', 'teamid', 'lgid', 'playerid', 'salary'], dtype='object')"
      ]
     },
     "execution_count": 32,
     "metadata": {},
     "output_type": "execute_result"
    }
   ],
   "source": [
    "salaries.columns"
   ]
  },
  {
   "cell_type": "markdown",
   "metadata": {},
   "source": [
    "### Question 1\n",
    "\n",
    "Draw a schema of the relationship between the people, salaries, and hof_inducted tables.\n",
    "\n",
    "    ==> These are one-to-many relationships"
   ]
  },
  {
   "cell_type": "markdown",
   "metadata": {},
   "source": [
    "### Question 2\n",
    "\n",
    "Write a query that returns the namefirst and namelast fields of the people table, along with the inducted field from the hof_inducted table. All rows from the people table should be returned, and NULL values for the fields from hof_inducted should be returned when there is no match found."
   ]
  },
  {
   "cell_type": "code",
   "execution_count": 35,
   "metadata": {},
   "outputs": [
    {
     "name": "stdout",
     "output_type": "stream",
     "text": [
      "('David', 'Aardsma', None)\n",
      "('Hank', 'Aaron', 'Y')\n",
      "('Tommie', 'Aaron', None)\n",
      "('Don', 'Aase', None)\n",
      "('Andy', 'Abad', None)\n"
     ]
    }
   ],
   "source": [
    "sql = '''\n",
    "SELECT namefirst, namelast, inducted\n",
    "FROM people LEFT OUTER JOIN hof_inducted\n",
    "ON people.playerid = hof_inducted.playerid;\n",
    "'''\n",
    "\n",
    "results = engine.execute(sql)\n",
    "engine.dispose()\n",
    "rows = results.fetchall()\n",
    "\n",
    "# print some results just to see what we got\n",
    "for row in rows[:5]:\n",
    "  print(row)"
   ]
  },
  {
   "cell_type": "markdown",
   "metadata": {},
   "source": [
    "### Question 3\n",
    "\n",
    "In 2006, a special Baseball Hall of Fame induction was conducted for players from the negro baseball leagues of the 20th century. In that induction, 17 players were posthumously inducted into the Baseball Hall of Fame. Write a query that returns the first and last names, birth and death dates, and birth countries for these players.\n",
    "\n",
    "* Note that the year of induction was 2006, and the value for votedby will be “Negro League.”"
   ]
  },
  {
   "cell_type": "code",
   "execution_count": 40,
   "metadata": {},
   "outputs": [
    {
     "name": "stdout",
     "output_type": "stream",
     "text": [
      "('Ray', 'Brown', 1908, 1965)\n",
      "('Willard', 'Brown', 1915, 1996)\n",
      "('Andy', 'Cooper', 1898, 1941)\n",
      "('Frank', 'Grant', 1865, 1937)\n",
      "('Pete', 'Hill', 1882, 1951)\n"
     ]
    }
   ],
   "source": [
    "sql = '''\n",
    "SELECT namefirst, namelast, birthyear, deathyear\n",
    "FROM people LEFT OUTER JOIN hof_inducted\n",
    "ON people.playerid = hof_inducted.playerid\n",
    "WHERE yearid = 2006 AND votedby = 'Negro League'; '''\n",
    "\n",
    "\n",
    "results = engine.execute(sql)\n",
    "engine.dispose()\n",
    "rows = results.fetchall()\n",
    "\n",
    "# print some results just to see what we got\n",
    "for row in rows[:5]:\n",
    "  print(row)"
   ]
  },
  {
   "cell_type": "markdown",
   "metadata": {},
   "source": [
    "### Question 4\n",
    "\n",
    "Write a query that returns the yearid, playerid, teamid, and salary fields from the salaries table, along with the category field from the hof_inducted table. Keep only the records that are in both salaries and hof_inducted. \n",
    "\n",
    "* While a field named yearid is found in both tables, don’t JOIN by it. You must, however, explicitly name which field to include."
   ]
  },
  {
   "cell_type": "code",
   "execution_count": 42,
   "metadata": {},
   "outputs": [
    {
     "name": "stdout",
     "output_type": "stream",
     "text": [
      "(1985, 'suttebr01', 'ATL', 1354167, 'Player')\n",
      "(1985, 'murraed02', 'BAL', 1472819, 'Player')\n",
      "(1985, 'ripkeca01', 'BAL', 800000, 'Player')\n",
      "(1985, 'boggswa01', 'BOS', 1000000, 'Player')\n",
      "(1985, 'riceji01', 'BOS', 779227, 'Player')\n"
     ]
    }
   ],
   "source": [
    "sql = '''\n",
    "SELECT salaries.yearid, salaries.playerid, teamid, salary, category\n",
    "FROM salaries INNER JOIN hof_inducted\n",
    "ON salaries.playerid = hof_inducted.playerid; '''\n",
    "\n",
    "results = engine.execute(sql)\n",
    "engine.dispose()\n",
    "rows = results.fetchall()\n",
    "\n",
    "# print some results just to see what we got\n",
    "for row in rows[:5]:\n",
    "  print(row)"
   ]
  },
  {
   "cell_type": "markdown",
   "metadata": {},
   "source": [
    "### Question 5\n",
    "\n",
    "Write a query that returns the playerid, yearid, teamid, lgid, and salary fields from the salaries table and the inducted field from the hof_inducted table. Keep all records from both tables."
   ]
  },
  {
   "cell_type": "code",
   "execution_count": 43,
   "metadata": {},
   "outputs": [
    {
     "name": "stdout",
     "output_type": "stream",
     "text": [
      "('barkele01', 1985, 'ATL', 'NL', 870000, None)\n",
      "('bedrost01', 1985, 'ATL', 'NL', 550000, None)\n",
      "('benedbr01', 1985, 'ATL', 'NL', 545000, None)\n",
      "('campri01', 1985, 'ATL', 'NL', 633333, None)\n",
      "('ceronri01', 1985, 'ATL', 'NL', 625000, None)\n"
     ]
    }
   ],
   "source": [
    "sql = '''\n",
    "SELECT salaries.playerid, salaries.yearid, salaries.teamid, salaries.lgid, salary, hof_inducted.inducted\n",
    "FROM hof_inducted FULL OUTER JOIN salaries\n",
    "ON hof_inducted.playerid = salaries.playerid; '''\n",
    "\n",
    "\n",
    "results = engine.execute(sql)\n",
    "engine.dispose()\n",
    "rows = results.fetchall()\n",
    "\n",
    "# print some results just to see what we got\n",
    "for row in rows[:5]:\n",
    "  print(row)"
   ]
  },
  {
   "cell_type": "markdown",
   "metadata": {},
   "source": [
    "### Question 6\n",
    "\n",
    "There are 2 tables, hof_inducted and hof_not_inducted, indicating successful and unsuccessful inductions into the Baseball Hall of Fame, respectively.\n",
    "\n",
    "1) Combine these 2 tables by all fields. Keep all records.\n",
    "\n",
    "2) Get a distinct list of all player IDs for players who have been put up for HOF induction."
   ]
  },
  {
   "cell_type": "code",
   "execution_count": 45,
   "metadata": {},
   "outputs": [
    {
     "name": "stdout",
     "output_type": "stream",
     "text": [
      "('cobbty01', 1936, 'BBWAA', 226, 170, 222, 'Y', 'Player', None)\n",
      "('ruthba01', 1936, 'BBWAA', 226, 170, 215, 'Y', 'Player', None)\n",
      "('wagneho01', 1936, 'BBWAA', 226, 170, 215, 'Y', 'Player', None)\n",
      "('mathech01', 1936, 'BBWAA', 226, 170, 205, 'Y', 'Player', None)\n",
      "('johnswa01', 1936, 'BBWAA', 226, 170, 189, 'Y', 'Player', None)\n"
     ]
    }
   ],
   "source": [
    "sql = '''\n",
    "SELECT * FROM hof_inducted\n",
    "UNION ALL\n",
    "SELECT * FROM hof_not_inducted; '''\n",
    "\n",
    "results = engine.execute(sql)\n",
    "engine.dispose()\n",
    "rows = results.fetchall()\n",
    "\n",
    "# print some results just to see what we got\n",
    "for row in rows[:5]:\n",
    "  print(row)"
   ]
  },
  {
   "cell_type": "code",
   "execution_count": 46,
   "metadata": {},
   "outputs": [
    {
     "name": "stdout",
     "output_type": "stream",
     "text": [
      "('dunnja01',)\n",
      "('mitchke01',)\n",
      "('morame01',)\n",
      "('willijo99',)\n",
      "('maysca01',)\n"
     ]
    }
   ],
   "source": [
    "sql = '''\n",
    "SELECT playerid FROM hof_inducted\n",
    "UNION\n",
    "SELECT playerid FROM hof_not_inducted; '''\n",
    "\n",
    "results = engine.execute(sql)\n",
    "engine.dispose()\n",
    "rows = results.fetchall()\n",
    "\n",
    "# print some results just to see what we got\n",
    "for row in rows[:5]:\n",
    "  print(row)"
   ]
  },
  {
   "cell_type": "markdown",
   "metadata": {},
   "source": [
    "### Question 7\n",
    "\n",
    "Write a query that returns the last name, first name (see people table), and total recorded salaries for all players found in the salaries table."
   ]
  },
  {
   "cell_type": "code",
   "execution_count": 47,
   "metadata": {},
   "outputs": [
    {
     "name": "stdout",
     "output_type": "stream",
     "text": [
      "('Aardsma', 'David', 9259750)\n",
      "('Aase', 'Don', 2300000)\n",
      "('Abad', 'Andy', 327000)\n",
      "('Abad', 'Fernando', 3766400)\n",
      "('Abbott', 'Jeff', 985000)\n"
     ]
    }
   ],
   "source": [
    "sql = '''\n",
    "SELECT namelast, namefirst, SUM(salary)\n",
    "FROM salaries LEFT OUTER JOIN people\n",
    "ON salaries.playerid = people.playerid\n",
    "GROUP BY namelast, namefirst\n",
    "ORDER BY namelast, namefirst; '''\n",
    "\n",
    "results = engine.execute(sql)\n",
    "engine.dispose()\n",
    "rows = results.fetchall()\n",
    "\n",
    "# print some results just to see what we got\n",
    "for row in rows[:5]:\n",
    "  print(row)"
   ]
  },
  {
   "cell_type": "markdown",
   "metadata": {},
   "source": [
    "### Question 8\n",
    "\n",
    "Write a query that returns all records from the hof_inducted and hof_not_inducted tables that include playerid, yearid, namefirst, and namelast. \n",
    "\n",
    "* Hint: Each FROM statement will include a LEFT OUTER JOIN!"
   ]
  },
  {
   "cell_type": "code",
   "execution_count": 51,
   "metadata": {},
   "outputs": [
    {
     "name": "stdout",
     "output_type": "stream",
     "text": [
      "('aaronha01', 1982, 'Hank', 'Aaron')\n",
      "('alexape01', 1938, 'Pete', 'Alexander')\n",
      "('alomaro01', 2011, 'Roberto', 'Alomar')\n",
      "('alstowa01', 1983, 'Walter', 'Alston')\n",
      "('andersp01', 2000, 'Sparky', 'Anderson')\n"
     ]
    }
   ],
   "source": [
    "sql = '''\n",
    "SELECT hof_inducted.playerid, yearid, namefirst, namelast\n",
    "FROM hof_inducted LEFT OUTER JOIN people\n",
    "ON hof_inducted.playerid = people.playerid\n",
    "\n",
    "UNION ALL\n",
    "\n",
    "SELECT hof_not_inducted.playerid, yearid, namefirst, namelast\n",
    "FROM hof_not_inducted LEFT OUTER JOIN people\n",
    "ON hof_not_inducted.playerid = people.playerid; '''\n",
    "\n",
    "\n",
    "results = engine.execute(sql)\n",
    "engine.dispose()\n",
    "rows = results.fetchall()\n",
    "\n",
    "# print some results just to see what we got\n",
    "for row in rows[:5]:\n",
    "  print(row)"
   ]
  },
  {
   "cell_type": "markdown",
   "metadata": {},
   "source": [
    "### Question 9\n",
    "\n",
    "Return a table including all records from both hof_inducted and hof_not_inducted, and include a new field, namefull, which is formatted as namelast , namefirst (in other words, the last name, followed by a comma, then a space, then the first name). The query should also return the yearid and inducted fields. Include only records since 1980 from both tables. Sort the resulting table by yearid, then inducted so that Y comes before N. Finally, sort by the namefull field, A to Z."
   ]
  },
  {
   "cell_type": "code",
   "execution_count": 52,
   "metadata": {},
   "outputs": [
    {
     "name": "stdout",
     "output_type": "stream",
     "text": [
      "('Kaline, Al', 1980, 'Y')\n",
      "('Klein, Chuck', 1980, 'Y')\n",
      "('Snider, Duke', 1980, 'Y')\n",
      "('Yawkey, Tom', 1980, 'Y')\n",
      "('Aker, Jack', 1980, 'N')\n"
     ]
    }
   ],
   "source": [
    "sql = '''\n",
    "SELECT concat(namelast,', ', namefirst) AS namefull, yearid, inducted\n",
    "FROM hof_inducted LEFT OUTER JOIN people\n",
    "ON hof_inducted.playerid = people.playerid\n",
    "WHERE yearid >= 1980\n",
    "\n",
    "UNION ALL \n",
    "\n",
    "SELECT concat(namelast,', ', namefirst) AS namefull, yearid, inducted\n",
    "FROM hof_not_inducted LEFT OUTER JOIN people\n",
    "ON hof_not_inducted.playerid = people.playerid\n",
    "WHERE yearid >= 1980\n",
    "\n",
    "ORDER BY yearid,  inducted DESC, namefull; '''\n",
    "\n",
    "results = engine.execute(sql)\n",
    "engine.dispose()\n",
    "rows = results.fetchall()\n",
    "\n",
    "# print some results just to see what we got\n",
    "for row in rows[:5]:\n",
    "  print(row)"
   ]
  },
  {
   "cell_type": "markdown",
   "metadata": {},
   "source": [
    "### Question 10\n",
    "\n",
    "Write a query that returns the highest annual salary for each teamid, ranked from high to low, along with the corresponding playerid. Bonus! Return namelast and namefirst in the resulting table. (You can find these in the people table.)"
   ]
  },
  {
   "cell_type": "code",
   "execution_count": 53,
   "metadata": {},
   "outputs": [
    {
     "name": "stdout",
     "output_type": "stream",
     "text": [
      "(2016, 'LAN', 'kershcl01', 33000000)\n",
      "(2009, 'NYA', 'rodrial01', 33000000)\n",
      "(2010, 'NYA', 'rodrial01', 33000000)\n",
      "(2015, 'LAN', 'kershcl01', 32571000)\n",
      "(2011, 'NYA', 'rodrial01', 32000000)\n"
     ]
    }
   ],
   "source": [
    "sql = '''\n",
    "WITH max AS\n",
    "(SELECT MAX(salary) as max_salary, teamid, yearid\n",
    "FROM salaries\n",
    "GROUP BY teamid, yearid)\n",
    "SELECT salaries.yearid, salaries.teamid, playerid, max.max_salary\n",
    "FROM max LEFT OUTER JOIN salaries\n",
    "ON salaries.teamid = max.teamid AND salaries.yearid = max.yearid AND salaries.salary = max.max_salary\n",
    "ORDER BY max.max_salary DESC; '''\n",
    "\n",
    "results = engine.execute(sql)\n",
    "engine.dispose()\n",
    "rows = results.fetchall()\n",
    "\n",
    "# print some results just to see what we got\n",
    "for row in rows[:5]:\n",
    "  print(row)"
   ]
  },
  {
   "cell_type": "markdown",
   "metadata": {},
   "source": [
    "### Question 11\n",
    "\n",
    "Select birthyear, deathyear, namefirst, and namelast of all the players born since the birth year of Babe Ruth (playerid = ruthba01). Sort the results by birth year from low to high."
   ]
  },
  {
   "cell_type": "code",
   "execution_count": 54,
   "metadata": {},
   "outputs": [
    {
     "name": "stdout",
     "output_type": "stream",
     "text": [
      "(1896, 1978, 'Mike', 'Wilson')\n",
      "(1896, 1983, 'Chick', 'Sorrells')\n",
      "(1896, 1963, 'Merito', 'Acosta')\n",
      "(1896, 1962, 'Mutt', 'Wilson')\n",
      "(1896, 1950, 'Dick', 'McCabe')\n"
     ]
    }
   ],
   "source": [
    "sql = '''\n",
    "SELECT birthyear, deathyear, namefirst, namelast\n",
    "FROM people\n",
    "WHERE birthyear > ANY\n",
    "\t(SELECT\tbirthyear\n",
    "\tFROM people\n",
    "\tWHERE playerid = 'ruthba01')\n",
    "ORDER BY birthyear;'''\n",
    "\n",
    "results = engine.execute(sql)\n",
    "engine.dispose()\n",
    "rows = results.fetchall()\n",
    "\n",
    "# print some results just to see what we got\n",
    "for row in rows[:5]:\n",
    "  print(row)"
   ]
  },
  {
   "cell_type": "markdown",
   "metadata": {},
   "source": [
    "### Question 12\n",
    "\n",
    "Using the people table, write a query that returns namefirst, namelast, and a field called usaborn where. The usaborn field should show the following: if the player's birthcountry is the USA, then the record is 'USA.' Otherwise, it's 'non-USA.' Order the results by 'non-USA' records first."
   ]
  },
  {
   "cell_type": "code",
   "execution_count": 55,
   "metadata": {},
   "outputs": [
    {
     "name": "stdout",
     "output_type": "stream",
     "text": [
      "('Andre', 'Rienzo', 'non-USA')\n",
      "('Juan', 'Castillo', 'non-USA')\n",
      "('Juan', 'Castillo', 'non-USA')\n",
      "('Lendy', 'Castillo', 'non-USA')\n",
      "('Luis', 'Castillo', 'non-USA')\n"
     ]
    }
   ],
   "source": [
    "sql = '''\n",
    "SELECT namefirst, namelast, \n",
    "\tCASE\n",
    "\t\tWHEN birthcountry = 'USA' THEN 'USA'\n",
    "\t\tELSE 'non-USA'\n",
    "\tEND AS usaborn\n",
    "FROM people\n",
    "ORDER BY 3; '''\n",
    "\n",
    "results = engine.execute(sql)\n",
    "engine.dispose()\n",
    "rows = results.fetchall()\n",
    "\n",
    "# print some results just to see what we got\n",
    "for row in rows[:5]:\n",
    "  print(row)"
   ]
  },
  {
   "cell_type": "markdown",
   "metadata": {},
   "source": [
    "### Question 13\n",
    "\n",
    "Calculate the average height for players throwing with their right hand versus their left hand. Name these fields right_height and left_height, respectively."
   ]
  },
  {
   "cell_type": "code",
   "execution_count": 57,
   "metadata": {},
   "outputs": [
    {
     "name": "stdout",
     "output_type": "stream",
     "text": [
      "(Decimal('72.3172024506092104'), Decimal('72.5530219780219780'))\n"
     ]
    }
   ],
   "source": [
    "sql = '''\n",
    "SELECT\n",
    "AVG(CASE WHEN throws = 'R' THEN height END) AS right_height,\n",
    "AVG(CASE WHEN throws = 'L' THEN height END) AS left_height\n",
    "FROM people; '''\n",
    "\n",
    "results = engine.execute(sql)\n",
    "engine.dispose()\n",
    "rows = results.fetchall()\n",
    "\n",
    "# print some results just to see what we got\n",
    "for row in rows[:5]:\n",
    "  print(row)"
   ]
  },
  {
   "cell_type": "markdown",
   "metadata": {},
   "source": [
    "### Question 14\n",
    "\n",
    "Get the average of each team's maximum player salary since 2010. Hint: WHERE will go inside your CTE."
   ]
  },
  {
   "cell_type": "code",
   "execution_count": 58,
   "metadata": {},
   "outputs": [
    {
     "name": "stdout",
     "output_type": "stream",
     "text": [
      "('HOU', Decimal('13133333.333333333333'))\n",
      "('PIT', Decimal('12930555.500000000000'))\n",
      "('SLN', Decimal('17897041.000000000000'))\n",
      "('ARI', Decimal('13066505.000000000000'))\n",
      "('OAK', Decimal('9811111.166666666667'))\n"
     ]
    }
   ],
   "source": [
    "sql = '''\n",
    "WITH max_sal_by_team_by_year AS\n",
    "(\n",
    "SELECT teamid, yearid, MAX(salary) AS max_sal\n",
    "FROM salaries\n",
    "GROUP BY teamid, yearid\n",
    ")\n",
    "SELECT teamid, AVG(max_sal) AS avg_max_sal_since_2010\n",
    "FROM max_sal_by_team_by_year\n",
    "WHERE yearid > 2010\n",
    "GROUP BY teamid; '''\n",
    "\n",
    "results = engine.execute(sql)\n",
    "engine.dispose()\n",
    "rows = results.fetchall()\n",
    "\n",
    "# print some results just to see what we got\n",
    "for row in rows[:5]:\n",
    "  print(row)"
   ]
  },
  {
   "cell_type": "code",
   "execution_count": null,
   "metadata": {},
   "outputs": [],
   "source": []
  }
 ],
 "metadata": {
  "kernelspec": {
   "display_name": "Python 3",
   "language": "python",
   "name": "python3"
  },
  "language_info": {
   "codemirror_mode": {
    "name": "ipython",
    "version": 3
   },
   "file_extension": ".py",
   "mimetype": "text/x-python",
   "name": "python",
   "nbconvert_exporter": "python",
   "pygments_lexer": "ipython3",
   "version": "3.7.4"
  }
 },
 "nbformat": 4,
 "nbformat_minor": 2
}
